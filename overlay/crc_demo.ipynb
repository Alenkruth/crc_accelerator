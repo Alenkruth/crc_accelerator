{
 "cells": [
  {
   "cell_type": "markdown",
   "metadata": {},
   "source": [
    "# Zynq PS with CRC\n",
    "\n",
    "Cyclic Redundancy Code/Check is a widely used to detect data corruption during data transmission. Since data transmission is the basic building block of modern systems, CRCs algorithms are candidates suitable for hardware Acceleration.\n",
    "\n",
    "More information about \n",
    "This Notebook demonstrates the working of a 32bit CRC Accelerator integrated with the Processing System(PS) present in the Zynq 7000 SoC.\n",
    "The CRC IP is a Verilog Module present the Programmable Logic(PL) region of the SoC.\n",
    "\n",
    "__CRC is a Error Detection Code, meaning it will detect errors but not correct them. More sophisticated encoding methods like Hamming Codes and Reed Solomon Codes can be used for Error Detection and Corruption.__\n",
    "\n",
    "More information about this project can be found in our [Wiki page](http://venividiwiki.ee.virginia.edu/mediawiki/index.php/Parameterized_CRC_Accelerator) [Requires the user to be connected to the UVA network].\n",
    "\n",
    "A wonderful [tutorial](http://www.ross.net/crc/download/crc_v3.txt) on CRC. "
   ]
  },
  {
   "cell_type": "markdown",
   "metadata": {},
   "source": [
    "## Block Diagram\n",
    "\n",
    "![CRC System](./crc_system.png)\n",
    "\n",
    "The Accelerator is intergrated with Zynq processing system thorugh AXI lite Interface.\n",
    "\n",
    "### Assumed block diagram for demonstration\n",
    "![CRC Demonstration Block Diagram](./crc_demo_block.png)\n",
    "\n",
    "Each packet of data is 32bit or 16bit wide. If the i^th^ packet transmitted contains image data, the i+1^th^ packet contains the CRC of the data.\n",
    "\n",
    "The noise is introduced into the received data in the channel by a python function."
   ]
  },
  {
   "cell_type": "markdown",
   "metadata": {},
   "source": [
    "### Importing the required packages"
   ]
  },
  {
   "cell_type": "code",
   "execution_count": 1,
   "metadata": {},
   "outputs": [
    {
     "data": {
      "application/javascript": [
       "\n",
       "try {\n",
       "require(['notebook/js/codecell'], function(codecell) {\n",
       "  codecell.CodeCell.options_default.highlight_modes[\n",
       "      'magic_text/x-csrc'] = {'reg':[/^%%microblaze/]};\n",
       "  Jupyter.notebook.events.one('kernel_ready.Kernel', function(){\n",
       "      Jupyter.notebook.get_cells().map(function(cell){\n",
       "          if (cell.cell_type == 'code'){ cell.auto_highlight(); } }) ;\n",
       "  });\n",
       "});\n",
       "} catch (e) {};\n"
      ]
     },
     "metadata": {},
     "output_type": "display_data"
    },
    {
     "data": {
      "application/javascript": [
       "\n",
       "try {\n",
       "require(['notebook/js/codecell'], function(codecell) {\n",
       "  codecell.CodeCell.options_default.highlight_modes[\n",
       "      'magic_text/x-csrc'] = {'reg':[/^%%pybind11/]};\n",
       "  Jupyter.notebook.events.one('kernel_ready.Kernel', function(){\n",
       "      Jupyter.notebook.get_cells().map(function(cell){\n",
       "          if (cell.cell_type == 'code'){ cell.auto_highlight(); } }) ;\n",
       "  });\n",
       "});\n",
       "} catch (e) {};\n"
      ]
     },
     "metadata": {},
     "output_type": "display_data"
    }
   ],
   "source": [
    "# Xilinx PyPi Package import\n",
    "from pynq import Overlay\n",
    "from pynq import MMIO\n",
    "\n",
    "# Non-Xilinx Python package imports\n",
    "import os\n",
    "import numpy as np\n",
    "import binascii\n",
    "from PIL import Image\n",
    "import cv2\n",
    "import random as random\n",
    "\n",
    "import pandas as pd\n",
    "from IPython.display import display\n",
    "\n",
    "import crcmod.predefined\n",
    "from codecs import decode as decode\n",
    "\n",
    "import time"
   ]
  },
  {
   "cell_type": "markdown",
   "metadata": {},
   "source": [
    " "
   ]
  },
  {
   "cell_type": "markdown",
   "metadata": {},
   "source": [
    "### Initialize other functions\n",
    "\n",
    "We wrote some functions to carry out data(format) conversion and to inject randomized noise into data.\n",
    "We also have a wrapper function around software CRC library instantiation which will help with performance comparisons."
   ]
  },
  {
   "cell_type": "markdown",
   "metadata": {},
   "source": [
    "#### Function to load an image and convert it into a list of 32bit hexadecimal values"
   ]
  },
  {
   "cell_type": "code",
   "execution_count": 2,
   "metadata": {},
   "outputs": [],
   "source": [
    "\"\"\"\n",
    "    Function to return the list of hex values when given a file name\n",
    "    input: string = Path to the file\n",
    "    returns: list = the file sliced into 32bit hex elements\n",
    "\"\"\"\n",
    "def return_hex_list(file):\n",
    "    \n",
    "    # read the file\n",
    "    # the file size is 4kb for the examples we use\n",
    "    with open(file, 'rb') as f:\n",
    "        content = f.read()\n",
    "    \n",
    "    # print the length of the bytestream\n",
    "    print(\"length of the bytestream: \", len(content))\n",
    "    \n",
    "    # the list will contain 4bytes per element in hex format\n",
    "    # converting the image data from bytes to hex will lead to a size increase\n",
    "    temp_val = content.hex()\n",
    "    len_tv = len(temp_val)\n",
    "    \n",
    "    # print the length of the bytestream\n",
    "    print(\"length of the hex stream of the image: \", len_tv)    \n",
    "    \n",
    "    # we find the closest power of two to pad the stream\n",
    "    if (len_tv > 1):\n",
    "        for i in range(1, len_tv):\n",
    "            if (2**i >= len_tv):\n",
    "                size = 2**i\n",
    "                break\n",
    "    \n",
    "    print(\"length of the generated hex stream: \", size)\n",
    "    \n",
    "    st = temp_val.ljust(size,'0')\n",
    "    hex_list = []\n",
    "    \n",
    "    for i in range(0, len(st), 8):\n",
    "        hex_list.append(((int(st[i]  , 16) << 28) | \\\n",
    "                         (int(st[i+1], 16) << 24) | \\\n",
    "                         (int(st[i+2], 16) << 20) | \\\n",
    "                         (int(st[i+3], 16) << 16) | \\\n",
    "                         (int(st[i+4], 16) << 12) | \\\n",
    "                         (int(st[i+5], 16) <<  8) | \\\n",
    "                         (int(st[i+6], 16) <<  4) | \\\n",
    "                         (int(st[i+7], 16))))   \n",
    "    \n",
    "    # print the number of 32bit elements in the list\n",
    "    print(\"number of 32bit elements in the list: \", len(hex_list))\n",
    "    print(\"size of the image\", 4*(len(hex_list)), \"Bytes\")\n",
    "    \n",
    "    return hex_list"
   ]
  },
  {
   "cell_type": "markdown",
   "metadata": {},
   "source": [
    "### Function to load an image and convert it into a list of 16bit hexadecimal values"
   ]
  },
  {
   "cell_type": "code",
   "execution_count": 3,
   "metadata": {},
   "outputs": [],
   "source": [
    "\"\"\"\n",
    "    Function to return the list of hex values when given a file name\n",
    "    input: string = Path to the file\n",
    "    returns: list = the file sliced into 32bit hex elements\n",
    "\"\"\"\n",
    "def return_hex16_list(file):\n",
    "    \n",
    "    # read the file\n",
    "    # the file size is 4kb for the examples we use\n",
    "    with open(file, 'rb') as f:\n",
    "        content = f.read()\n",
    "    \n",
    "    # print the length of the bytestream\n",
    "    print(\"length of the bytestream: \", len(content))\n",
    "    \n",
    "    # the list will contain 4bytes per element in hex format\n",
    "    # converting the image data from bytes to hex will lead to a size increase\n",
    "    temp_val = content.hex()\n",
    "    len_tv = len(temp_val)\n",
    "    \n",
    "    # print the length of the bytestream\n",
    "    print(\"length of the hex stream of the image: \", len_tv)    \n",
    "    \n",
    "    # we find the closest power of two to pad the stream\n",
    "    if (len_tv > 1):\n",
    "        for i in range(1, len_tv):\n",
    "            if (2**i >= len_tv):\n",
    "                size = 2**i\n",
    "                break\n",
    "    \n",
    "    print(\"length of the generated hex stream: \", size)\n",
    "    \n",
    "    st = temp_val.ljust(size,'0')\n",
    "    hex_list = []\n",
    "    \n",
    "    for i in range(0, len(st), 4):\n",
    "        hex_list.append(((int(st[i]  , 16) << 12) | \\\n",
    "                         (int(st[i+1], 16) <<  8) | \\\n",
    "                         (int(st[i+2], 16) <<  4) | \\\n",
    "                         (int(st[i+3], 16))))  \n",
    "    \n",
    "    # print the number of 32bit elements in the list\n",
    "    print(\"number of 16bit elements in the list: \", len(hex_list))\n",
    "    print(\"size of the image\", 2*(len(hex_list)), \"Bytes\")\n",
    "    \n",
    "    return hex_list"
   ]
  },
  {
   "cell_type": "markdown",
   "metadata": {},
   "source": [
    "#### Inject random noise into a hex list."
   ]
  },
  {
   "cell_type": "code",
   "execution_count": 4,
   "metadata": {},
   "outputs": [],
   "source": [
    "# noise can affect both data and crc value\n",
    "def noisy(x, threshold):\n",
    "    for i in range (len(x)):\n",
    "        if random.randint(0, 1000) > threshold:\n",
    "            x[i] = x[i] ^ random.randint(0, 2^32) & 0xFFFFFFFF\n",
    "        else:\n",
    "            x[i] = x[i]\n",
    "    return x"
   ]
  },
  {
   "cell_type": "markdown",
   "metadata": {},
   "source": [
    "#### CRC computation with software library"
   ]
  },
  {
   "cell_type": "code",
   "execution_count": 5,
   "metadata": {},
   "outputs": [],
   "source": [
    "def soft_crc(value):\n",
    "    # convert the input stream into bytes\n",
    "    value = value.replace(\"0x\", \"\")\n",
    "    value = value.rjust(8, '0')\n",
    "    value = decode(value, 'hex_codec')\n",
    "    \n",
    "    crc32_func = crcmod.predefined.mkCrcFun('crc-32-mpeg')\n",
    "    res = crc32_func(value)\n",
    "    return res"
   ]
  },
  {
   "cell_type": "code",
   "execution_count": 6,
   "metadata": {},
   "outputs": [],
   "source": [
    "def soft_crc_16(value):\n",
    "    # convert the input stream into bytes\n",
    "    value = value.replace(\"0x\", \"\")\n",
    "    value = value.rjust(4, '0')\n",
    "    value = decode(value, 'hex_codec')\n",
    "    \n",
    "    crc16_func = crcmod.predefined.mkCrcFun('crc-16-buypass')\n",
    "    res = crc16_func(value)\n",
    "    return res"
   ]
  },
  {
   "cell_type": "markdown",
   "metadata": {},
   "source": [
    "#### Convert a Hex list into an image"
   ]
  },
  {
   "cell_type": "code",
   "execution_count": 7,
   "metadata": {},
   "outputs": [],
   "source": [
    "def hex_to_img(hex_list, filename):\n",
    "    hex_img = []\n",
    "\n",
    "    for i in range(0, len(hex_list)):\n",
    "        hex_img.append(hex(hex_list[i]).replace(\"0x\", '').rjust(8, \"0\"))\n",
    "    \n",
    "    hex_img = decode(''.join(hex_img), 'hex_codec')\n",
    "    with open(filename, 'wb') as f:\n",
    "        f.write(hex_img)\n",
    "    return(filename)"
   ]
  },
  {
   "cell_type": "markdown",
   "metadata": {},
   "source": [
    "#### Convert a 16bit Hex list into an image"
   ]
  },
  {
   "cell_type": "code",
   "execution_count": 8,
   "metadata": {},
   "outputs": [],
   "source": [
    "def hex16_to_img(hex_list, filename):\n",
    "    hex_img = []\n",
    "\n",
    "    for i in range(0, len(hex_list)):\n",
    "        hex_img.append(hex(hex_list[i]).replace(\"0x\", '').rjust(4, \"0\"))\n",
    "    \n",
    "    hex_img = decode(''.join(hex_img), 'hex_codec')\n",
    "    with open(filename, 'wb') as f:\n",
    "        f.write(hex_img)\n",
    "    return(filename)"
   ]
  },
  {
   "cell_type": "markdown",
   "metadata": {},
   "source": [
    "### Creation of the Overlay with the Bitstream"
   ]
  },
  {
   "cell_type": "code",
   "execution_count": 9,
   "metadata": {},
   "outputs": [],
   "source": [
    "ol = Overlay(\"crc.bit\")"
   ]
  },
  {
   "cell_type": "markdown",
   "metadata": {},
   "source": [
    "### Setting up the Memory Regions\n",
    "\n",
    "The CRC IP and the BRAM present in the PL are interfaced as Memory Mapped IPs interacting with the PS through AXI4-Lite."
   ]
  },
  {
   "cell_type": "code",
   "execution_count": 10,
   "metadata": {},
   "outputs": [],
   "source": [
    "# Base address of the CRC IP\n",
    "base_address_crc = 0x43C00000\n",
    "# Base address of the BRAM\n",
    "base_address_mem = 0x40000000\n",
    "\n",
    "# Size of the Memory(In Bytes) mapped to the IP memory/registers in the PS address space\n",
    "# CRC has 4 registers of 32bit width\n",
    "crc_regmem_size = 128\n",
    "\n",
    "# The BRAM size is 8kB\n",
    "bram_mem_size = 8192"
   ]
  },
  {
   "cell_type": "markdown",
   "metadata": {},
   "source": [
    "### Creating MMIO objects to interact with the Memory Mapped IPs"
   ]
  },
  {
   "cell_type": "code",
   "execution_count": 11,
   "metadata": {},
   "outputs": [],
   "source": [
    "# Object to interact with the CRC IP\n",
    "mmio_crc = MMIO(base_address_crc, crc_regmem_size)\n",
    "# Object to interact with the BRAM IP\n",
    "mmio_bram = MMIO(base_address_mem, bram_mem_size)"
   ]
  },
  {
   "cell_type": "markdown",
   "metadata": {},
   "source": [
    "#### Set up address offsets for the MMIO"
   ]
  },
  {
   "cell_type": "code",
   "execution_count": 12,
   "metadata": {},
   "outputs": [],
   "source": [
    "# we use offsets to read from the MMIO AXI CRC IP\n",
    "crc_data_offset = 0x0\n",
    "crc_init_offset = 0x4\n",
    "crc_sel_offset = 0x8\n",
    "crc_result_offset = 0xc\n",
    "\n",
    "# we use offsets to read from the MMIO AXI BRAM\n",
    "bram_address_offset = 0x0\n",
    "\n",
    "# default select value for 32bit CRC\n",
    "crc_sel_32 = 0xf\n",
    "# any value other than 0xf will result in crc16 being returned\n",
    "crc_sel_16 = 0x0"
   ]
  },
  {
   "cell_type": "markdown",
   "metadata": {},
   "source": [
    "#### Clear the BRAM and write zeros into it."
   ]
  },
  {
   "cell_type": "code",
   "execution_count": 13,
   "metadata": {},
   "outputs": [],
   "source": [
    "for i in range(0, int(bram_mem_size/4)):\n",
    "    # Since memory in AXI is byte Addresses, and the access granularity is 4bytes\n",
    "    # the offset should be a multiple of 4\n",
    "    mmio_bram.write(bram_address_offset+(i*4), 0)"
   ]
  },
  {
   "cell_type": "markdown",
   "metadata": {},
   "source": [
    "#### Clear the CRC input registers and write zeros into it."
   ]
  },
  {
   "cell_type": "code",
   "execution_count": 14,
   "metadata": {},
   "outputs": [],
   "source": [
    "mmio_crc.write(crc_data_offset,0)\n",
    "mmio_crc.write(crc_init_offset, 0)\n",
    "mmio_crc.write(crc_sel_offset, 0)"
   ]
  },
  {
   "cell_type": "markdown",
   "metadata": {},
   "source": [
    "### Read an image and Store it in the BRAM\n",
    "\n",
    "The size of the BRAM is 8kB. The image is chosen to be smaller than that.\n",
    "\n",
    "![Test Image](.\\test_image.jpg)"
   ]
  },
  {
   "cell_type": "code",
   "execution_count": 15,
   "metadata": {},
   "outputs": [
    {
     "name": "stdout",
     "output_type": "stream",
     "text": [
      "length of the bytestream:  3549\n",
      "length of the hex stream of the image:  7098\n",
      "length of the generated hex stream:  8192\n",
      "number of 32bit elements in the list:  1024\n",
      "size of the image 4096 Bytes\n"
     ]
    }
   ],
   "source": [
    "# path to the file\n",
    "file = \"./test_image.jpg\"\n",
    "# read the file and convert it into a list of hexadecimal values\n",
    "# img_hex = [0xbabecafe, 0xdeadbeef, ..., 0xdeadcafe]\n",
    "img_hex = return_hex_list(file)"
   ]
  },
  {
   "cell_type": "markdown",
   "metadata": {},
   "source": [
    "Write into the BRAM"
   ]
  },
  {
   "cell_type": "code",
   "execution_count": 16,
   "metadata": {},
   "outputs": [
    {
     "name": "stdout",
     "output_type": "stream",
     "text": [
      "written data into the 8kB BRAM\n"
     ]
    }
   ],
   "source": [
    "for i in range(0, len(img_hex)):\n",
    "    # Since memory in AXI is byte Addresses, and the access granularity is 4bytes\n",
    "    # the offset should be a multiple of 4\n",
    "    mmio_bram.write(bram_address_offset+(i*4), img_hex[i])\n",
    "\n",
    "print(\"written data into the 8kB BRAM\")"
   ]
  },
  {
   "cell_type": "markdown",
   "metadata": {},
   "source": [
    "## Demonstration of CRC Accelerator detecting error occuring during transmission\n",
    "\n",
    "The Image stored in the BRAM will be transmitted to the receiver along with the CRC of the image."
   ]
  },
  {
   "cell_type": "markdown",
   "metadata": {},
   "source": [
    "### CRC MPEG2 (IEEE 802.3) Specific Setup\n",
    "The initial value is fixed to 0xFFFFFFFF for IEEE 802.3"
   ]
  },
  {
   "cell_type": "code",
   "execution_count": 17,
   "metadata": {},
   "outputs": [],
   "source": [
    "crc_initial_data = 0xffffffff"
   ]
  },
  {
   "cell_type": "markdown",
   "metadata": {},
   "source": [
    "The CRC IP will read directly from the BRAM and perform the CRC Calculation.\n",
    "The output from the CRC, and the image are stored in a buffer\n",
    "\n",
    "_Ideally this will then get transmitted to the world._\n",
    "\n",
    "But for demonstration, we **do not** send the data out but write it into a _output buffer_.\n",
    "\n",
    "We then copy the data from the _output buffer_ to the _input buffer_ and perform our check on it.\n",
    "This copy operation is expected to mimic a data transfer.\n",
    "\n",
    "The Jupyter notebook functions like a controller interfacing between the CRC IP and the BRAM."
   ]
  },
  {
   "cell_type": "markdown",
   "metadata": {},
   "source": [
    "### Transmitter End"
   ]
  },
  {
   "cell_type": "code",
   "execution_count": 18,
   "metadata": {},
   "outputs": [],
   "source": [
    "# The output buffer contains the image and the associated CRC at 4byte granularity\n",
    "# output_buffer = [img[0], crc32(img[0]), img[1], crc32(img[1]), ......]\n",
    "output_buffer = []\n",
    "\n",
    "for i in range(len(img_hex)):\n",
    "    output_buffer.append(mmio_bram.read(i*4))\n",
    "    mmio_crc.write(crc_data_offset, output_buffer[i*2])\n",
    "    mmio_crc.write(crc_init_offset, crc_initial_data)\n",
    "    mmio_crc.write(crc_sel_offset, crc_sel_32)\n",
    "    output_buffer.append(mmio_crc.read(crc_result_offset))"
   ]
  },
  {
   "cell_type": "markdown",
   "metadata": {},
   "source": [
    "### Receiver End\n",
    "\n",
    "The receiver will receive 32 bit packets.\n",
    "The order of packets is\n",
    "\n",
    "Packet 1 - Image[0:31]\n",
    "\n",
    "Packet 2 - CRC of Packet[1]\n",
    "\n",
    "...\n",
    "\n",
    "Packet n-1 - Image[n-31:n]\n",
    "\n",
    "Packet n - CRC of Packet[n]"
   ]
  },
  {
   "cell_type": "code",
   "execution_count": 19,
   "metadata": {},
   "outputs": [],
   "source": [
    "# Mimic the transmission\n",
    "input_buffer = output_buffer\n",
    "\n",
    "# The input_buffer will feed two separate buffers, CRC buffer and data buffer\n",
    "data_input_buffer = []\n",
    "crc_input_buffer = []\n",
    "\n",
    "# distribute the data to the two dedicated buffers\n",
    "for i in range(0, len(input_buffer), 2):\n",
    "    data_input_buffer.append(input_buffer[i])\n",
    "    crc_input_buffer.append(input_buffer[i+1])\n",
    "\n",
    "calculated_crc_buffer = []\n",
    "# we use ofsets to read from the MMIO AXI CRC IP\n",
    "crc_address_offset = 0x0\n",
    "\n",
    "for i in range(len(data_input_buffer)):\n",
    "    mmio_crc.write(crc_data_offset, data_input_buffer[i])\n",
    "    mmio_crc.write(crc_init_offset, crc_initial_data)\n",
    "    mmio_crc.write(crc_sel_offset, crc_sel_32)\n",
    "    calculated_crc_buffer.append(mmio_crc.read(crc_result_offset))"
   ]
  },
  {
   "cell_type": "markdown",
   "metadata": {},
   "source": [
    "#### Compare the Calculated CRC and the Received CRC"
   ]
  },
  {
   "cell_type": "code",
   "execution_count": 20,
   "metadata": {},
   "outputs": [
    {
     "name": "stdout",
     "output_type": "stream",
     "text": [
      "MATCH\n"
     ]
    }
   ],
   "source": [
    "print(\"MATCH\") if (crc_input_buffer == calculated_crc_buffer) else print(\"RESEND DATA\")"
   ]
  },
  {
   "cell_type": "markdown",
   "metadata": {},
   "source": [
    "In the real world, if the comparison fails due to a mismatch the data is transmitted again.\n",
    "\n",
    "Convert the received Hex into Image and display it"
   ]
  },
  {
   "cell_type": "code",
   "execution_count": 21,
   "metadata": {},
   "outputs": [
    {
     "data": {
      "text/plain": [
       "'./without_noise.png'"
      ]
     },
     "execution_count": 21,
     "metadata": {},
     "output_type": "execute_result"
    }
   ],
   "source": [
    "hex_to_img(data_input_buffer, './without_noise.png')"
   ]
  },
  {
   "cell_type": "markdown",
   "metadata": {},
   "source": [
    "### The transmitted Image is"
   ]
  },
  {
   "cell_type": "code",
   "execution_count": 22,
   "metadata": {
    "scrolled": true
   },
   "outputs": [
    {
     "data": {
      "image/png": "[encoded data removed]",
      "text/plain": [
       "<PIL.JpegImagePlugin.JpegImageFile image mode=RGB size=300x199 at 0xA67DB990>"
      ]
     },
     "metadata": {},
     "output_type": "display_data"
    }
   ],
   "source": [
    "test_im = Image.open('./without_noise.png')\n",
    "display(test_im)"
   ]
  },
  {
   "cell_type": "code",
   "execution_count": 23,
   "metadata": {},
   "outputs": [
    {
     "name": "stdout",
     "output_type": "stream",
     "text": [
      "Number of Mismatches 0\n"
     ]
    }
   ],
   "source": [
    "count = 0\n",
    "for i in range(len(crc_input_buffer)):\n",
    "    if (crc_input_buffer[i] != calculated_crc_buffer[i]):\n",
    "        print('CRC mismatch for Data Element', i)\n",
    "        count =  count + 1\n",
    "\n",
    "print('Number of Mismatches', count)"
   ]
  },
  {
   "cell_type": "markdown",
   "metadata": {},
   "source": [
    "### Validate CRC"
   ]
  },
  {
   "cell_type": "code",
   "execution_count": 24,
   "metadata": {},
   "outputs": [],
   "source": [
    "crc_output_buffer = []\n",
    "software_crc_buffer = []\n",
    "\n",
    "for i in range(1, len(output_buffer), 2):\n",
    "    crc_output_buffer.append(hex(output_buffer[i]))\n",
    "\n",
    "for i in range(0, len(output_buffer), 2):\n",
    "    software_crc_buffer.append(hex(soft_crc(hex(output_buffer[i]))))"
   ]
  },
  {
   "cell_type": "code",
   "execution_count": 25,
   "metadata": {},
   "outputs": [
    {
     "name": "stdout",
     "output_type": "stream",
     "text": [
      "SW and HW CRC Match\n"
     ]
    }
   ],
   "source": [
    "print(\"SW and HW CRC Match\") if (crc_output_buffer == software_crc_buffer) else print(\"SW and HW CRC Mismatch\")"
   ]
  },
  {
   "cell_type": "code",
   "execution_count": 26,
   "metadata": {},
   "outputs": [
    {
     "name": "stdout",
     "output_type": "stream",
     "text": [
      "Size of the image in 32b granularity: 1024\n",
      "Size of the output_buffer: 2048\n"
     ]
    },
    {
     "data": {
      "text/html": [
       "<div>\n",
       "<style scoped>\n",
       "    .dataframe tbody tr th:only-of-type {\n",
       "        vertical-align: middle;\n",
       "    }\n",
       "\n",
       "    .dataframe tbody tr th {\n",
       "        vertical-align: top;\n",
       "    }\n",
       "\n",
       "    .dataframe thead th {\n",
       "        text-align: right;\n",
       "    }\n",
       "</style>\n",
       "<table border=\"1\" class=\"dataframe\">\n",
       "  <thead>\n",
       "    <tr style=\"text-align: right;\">\n",
       "      <th></th>\n",
       "      <th>Image data in 32b Hex</th>\n",
       "      <th>CRC from Accelerator</th>\n",
       "      <th>CRC from software library</th>\n",
       "    </tr>\n",
       "    <tr>\n",
       "      <th>element</th>\n",
       "      <th></th>\n",
       "      <th></th>\n",
       "      <th></th>\n",
       "    </tr>\n",
       "  </thead>\n",
       "  <tbody>\n",
       "    <tr>\n",
       "      <th>1</th>\n",
       "      <td>0xffd8ffe0</td>\n",
       "      <td>0x4a40b1b8</td>\n",
       "      <td>0x4a40b1b8</td>\n",
       "    </tr>\n",
       "    <tr>\n",
       "      <th>2</th>\n",
       "      <td>0x104a46</td>\n",
       "      <td>0x9f7299df</td>\n",
       "      <td>0x9f7299df</td>\n",
       "    </tr>\n",
       "    <tr>\n",
       "      <th>3</th>\n",
       "      <td>0x49460001</td>\n",
       "      <td>0x45a998f6</td>\n",
       "      <td>0x45a998f6</td>\n",
       "    </tr>\n",
       "    <tr>\n",
       "      <th>4</th>\n",
       "      <td>0x1000001</td>\n",
       "      <td>0x1fa85a7b</td>\n",
       "      <td>0x1fa85a7b</td>\n",
       "    </tr>\n",
       "    <tr>\n",
       "      <th>5</th>\n",
       "      <td>0x10000</td>\n",
       "      <td>0xc6dc71fc</td>\n",
       "      <td>0xc6dc71fc</td>\n",
       "    </tr>\n",
       "    <tr>\n",
       "      <th>6</th>\n",
       "      <td>0xfffe003b</td>\n",
       "      <td>0x1e96e0b</td>\n",
       "      <td>0x1e96e0b</td>\n",
       "    </tr>\n",
       "    <tr>\n",
       "      <th>7</th>\n",
       "      <td>0x43524541</td>\n",
       "      <td>0xf84cae07</td>\n",
       "      <td>0xf84cae07</td>\n",
       "    </tr>\n",
       "    <tr>\n",
       "      <th>8</th>\n",
       "      <td>0x544f523a</td>\n",
       "      <td>0xea4efcf3</td>\n",
       "      <td>0xea4efcf3</td>\n",
       "    </tr>\n",
       "    <tr>\n",
       "      <th>9</th>\n",
       "      <td>0x2067642d</td>\n",
       "      <td>0xe8f726cf</td>\n",
       "      <td>0xe8f726cf</td>\n",
       "    </tr>\n",
       "    <tr>\n",
       "      <th>10</th>\n",
       "      <td>0x6a706567</td>\n",
       "      <td>0xad80eed1</td>\n",
       "      <td>0xad80eed1</td>\n",
       "    </tr>\n",
       "  </tbody>\n",
       "</table>\n",
       "</div>"
      ],
      "text/plain": [
       "        Image data in 32b Hex CRC from Accelerator CRC from software library\n",
       "element                                                                     \n",
       "1                  0xffd8ffe0           0x4a40b1b8                0x4a40b1b8\n",
       "2                    0x104a46           0x9f7299df                0x9f7299df\n",
       "3                  0x49460001           0x45a998f6                0x45a998f6\n",
       "4                   0x1000001           0x1fa85a7b                0x1fa85a7b\n",
       "5                     0x10000           0xc6dc71fc                0xc6dc71fc\n",
       "6                  0xfffe003b            0x1e96e0b                 0x1e96e0b\n",
       "7                  0x43524541           0xf84cae07                0xf84cae07\n",
       "8                  0x544f523a           0xea4efcf3                0xea4efcf3\n",
       "9                  0x2067642d           0xe8f726cf                0xe8f726cf\n",
       "10                 0x6a706567           0xad80eed1                0xad80eed1"
      ]
     },
     "metadata": {},
     "output_type": "display_data"
    }
   ],
   "source": [
    "print('Size of the image in 32b granularity:', len(img_hex))\n",
    "print('Size of the output_buffer:', len(output_buffer))\n",
    "\n",
    "\n",
    "temp_img_hex = []\n",
    "temp_output_buffer = []\n",
    "\n",
    "for i in range(0, 10):\n",
    "    temp_img_hex.append(hex(img_hex[i]))\n",
    "for i in range(0, 20, 2):\n",
    "    temp_output_buffer.append(hex(output_buffer[i+1]))\n",
    "\n",
    "software_crc = []\n",
    "\n",
    "# CRC results from software library\n",
    "for i in range(0, 10):\n",
    "    software_crc.append(hex(soft_crc(temp_img_hex[i])))\n",
    "    \n",
    "dict = {'CRC from Accelerator'           : temp_output_buffer,\n",
    "        'CRC from software library'      : software_crc,\n",
    "        'Image data in 32b Hex'          : temp_img_hex,\n",
    "        'element'                        : [i for i in range(1, 11)]\n",
    "        }\n",
    "\n",
    "df = pd.DataFrame(dict)\n",
    "df = df.set_index('element', drop=True)\n",
    "df = df[['Image data in 32b Hex', 'CRC from Accelerator', 'CRC from software library']]\n",
    "display(df)"
   ]
  },
  {
   "cell_type": "markdown",
   "metadata": {},
   "source": [
    "## Let us Make it Noisy"
   ]
  },
  {
   "cell_type": "code",
   "execution_count": 27,
   "metadata": {},
   "outputs": [],
   "source": [
    "# Data to input buffer witnesses noise and gets corrupted\n",
    "input_buffer = noisy(output_buffer, 998)"
   ]
  },
  {
   "cell_type": "code",
   "execution_count": 28,
   "metadata": {},
   "outputs": [],
   "source": [
    "# The input_buffer will feed two separate buffers, CRC buffer and data buffer\n",
    "data_input_buffer = []\n",
    "crc_input_buffer = []\n",
    "\n",
    "# we use ofsets to read from the MMIO AXI CRC IP\n",
    "crc_address_offset = 0x0\n",
    "\n",
    "# distribute the data to the two dedicated buffers\n",
    "for i in range(0, len(input_buffer), 2):\n",
    "    data_input_buffer.append(input_buffer[i])\n",
    "    crc_input_buffer.append(input_buffer[i+1])\n",
    "\n",
    "calculated_crc_buffer = []\n",
    "\n",
    "for i in range(len(data_input_buffer)):\n",
    "    mmio_crc.write(crc_data_offset, data_input_buffer[i])\n",
    "    mmio_crc.write(crc_init_offset, crc_initial_data)\n",
    "    mmio_crc.write(crc_sel_offset, crc_sel_32)\n",
    "    calculated_crc_buffer.append(mmio_crc.read(crc_result_offset))\n",
    "    \n",
    "    \"\"\"\n",
    "        IF we do not want to waste power computing after the first mismatch\n",
    "        we can break from the loop.\n",
    "    \"\"\"\n",
    "    #if calculated_crc_buffer[i] != crc_input_buffer[i]:\n",
    "    #    break"
   ]
  },
  {
   "cell_type": "markdown",
   "metadata": {},
   "source": [
    "#### Compare the Calculated CRC and the Received CRC"
   ]
  },
  {
   "cell_type": "code",
   "execution_count": 29,
   "metadata": {},
   "outputs": [
    {
     "name": "stdout",
     "output_type": "stream",
     "text": [
      "RESEND DATA\n"
     ]
    }
   ],
   "source": [
    "print(\"MATCH\") if (crc_input_buffer == calculated_crc_buffer) else print(\"RESEND DATA\")"
   ]
  },
  {
   "cell_type": "markdown",
   "metadata": {},
   "source": [
    "Ideally, we stop here and request the data to be resent.\n",
    "\n",
    "Since this is a simulation, we can look at the image which we received and  also find the particular elements which mismatched."
   ]
  },
  {
   "cell_type": "markdown",
   "metadata": {},
   "source": [
    "Convert Hex to Image"
   ]
  },
  {
   "cell_type": "code",
   "execution_count": 30,
   "metadata": {},
   "outputs": [
    {
     "data": {
      "text/plain": [
       "'./with_noise.png'"
      ]
     },
     "execution_count": 30,
     "metadata": {},
     "output_type": "execute_result"
    }
   ],
   "source": [
    "hex_to_img(data_input_buffer, './with_noise.png')"
   ]
  },
  {
   "cell_type": "markdown",
   "metadata": {},
   "source": [
    "### The transmitted Image is\n",
    "\n",
    "The image is _usually_ not printed due to data corruption. But if it is printed, the data corruption is observable."
   ]
  },
  {
   "cell_type": "code",
   "execution_count": 31,
   "metadata": {},
   "outputs": [
    {
     "data": {
      "image/png": "[encoded data removed]",
      "text/plain": [
       "<PIL.JpegImagePlugin.JpegImageFile image mode=RGB size=300x199 at 0xA6750EF0>"
      ]
     },
     "metadata": {},
     "output_type": "display_data"
    }
   ],
   "source": [
    "test_im = Image.open('./with_noise.png')\n",
    "try:\n",
    "    display(test_im) \n",
    "except Error as e:\n",
    "    print(e.Error)"
   ]
  },
  {
   "cell_type": "markdown",
   "metadata": {},
   "source": [
    "Since we are using python lists to simulate buffers, we can also identify which particular element did not match."
   ]
  },
  {
   "cell_type": "code",
   "execution_count": 32,
   "metadata": {},
   "outputs": [
    {
     "name": "stdout",
     "output_type": "stream",
     "text": [
      "CRC mismatch for Data Element 100\n",
      "CRC mismatch for Data Element 206\n",
      "CRC mismatch for Data Element 264\n",
      "CRC mismatch for Data Element 756\n",
      "CRC mismatch for Data Element 759\n",
      "CRC mismatch for Data Element 855\n",
      "Number of Mismatches 6\n"
     ]
    }
   ],
   "source": [
    "count = 0\n",
    "for i in range(len(crc_input_buffer)):\n",
    "    if (crc_input_buffer[i] != calculated_crc_buffer[i]):\n",
    "        print('CRC mismatch for Data Element', i)\n",
    "        count =  count + 1\n",
    "\n",
    "print('Number of Mismatches', count)"
   ]
  },
  {
   "cell_type": "markdown",
   "metadata": {},
   "source": [
    "It should be noted that the Error can occur in both the __Data__ as well as the transmitted __CRC__. Either way, we resend the data again."
   ]
  },
  {
   "cell_type": "markdown",
   "metadata": {},
   "source": [
    "## Demonstrate Performance Over Software Libraries"
   ]
  },
  {
   "cell_type": "markdown",
   "metadata": {},
   "source": [
    "We use the [CRCMod Package](https://pypi.org/project/crcmod/) [available on PyPi] for our software comparisons.\n",
    "\n",
    "The packae supports multiple CRC standards. The supported versions can be found [here](https://crcmod.sourceforge.net/crcmod.predefined.html)"
   ]
  },
  {
   "cell_type": "markdown",
   "metadata": {},
   "source": [
    "We start fresh. We read the image, convert it into hex and then store it in the BRAM."
   ]
  },
  {
   "cell_type": "code",
   "execution_count": 33,
   "metadata": {},
   "outputs": [
    {
     "name": "stdout",
     "output_type": "stream",
     "text": [
      "length of the bytestream:  3549\n",
      "length of the hex stream of the image:  7098\n",
      "length of the generated hex stream:  8192\n",
      "number of 32bit elements in the list:  1024\n",
      "size of the image 4096 Bytes\n",
      "written data into the 8kB BRAM\n"
     ]
    }
   ],
   "source": [
    "# Initial Setup to make sure the BRAM is clean and we are not dealing with wrong data.\n",
    "# we use offsets to read from the MMIO AXI CRC IP\n",
    "crc_data_offset = 0x0\n",
    "crc_init_offset = 0x4\n",
    "crc_sel_offset = 0x8\n",
    "crc_result_offset = 0xc\n",
    "\n",
    "# we use offsets to read from the MMIO AXI BRAM\n",
    "bram_address_offset = 0x0\n",
    "\n",
    "# Clean the BRAM\n",
    "for i in range(0, int(bram_mem_size/4)):\n",
    "    # Since memory in AXI is byte Addresses, and the access granularity is 4bytes\n",
    "    # the offset should be a multiple of 4\n",
    "    mmio_bram.write(bram_address_offset+(i*4), 0)\n",
    "\n",
    "# Clean the CRC Registers\n",
    "mmio_crc.write(crc_data_offset,0)\n",
    "mmio_crc.write(crc_init_offset, 0)\n",
    "mmio_crc.write(crc_sel_offset, 0)\n",
    "\n",
    "# read the image and write it into the BRAM\n",
    "\n",
    "# path to the file\n",
    "file = \"./test_image.jpg\"\n",
    "# read the file and convert it into a list of hexadecimal values\n",
    "# img_hex = [0xbabecafe, 0xdeadbeef, ..., 0xdeadcafe]\n",
    "img_hex = return_hex_list(file)\n",
    "\n",
    "for i in range(0, len(img_hex)):\n",
    "    # Since memory in AXI is byte Addresses, and the access granularity is 4bytes\n",
    "    # the offset should be a multiple of 4\n",
    "    mmio_bram.write(bram_address_offset+(i*4), img_hex[i])\n",
    "\n",
    "print(\"written data into the 8kB BRAM\")"
   ]
  },
  {
   "cell_type": "markdown",
   "metadata": {},
   "source": [
    "### Hardware CRC Performance Metrics\n",
    "\n",
    "We will compute the CRC of the same 4kB image 10 times and obtain the average time taken for the computation."
   ]
  },
  {
   "cell_type": "code",
   "execution_count": 34,
   "metadata": {},
   "outputs": [],
   "source": [
    "# function to compute the CRC and store it in a list.\n",
    "\n",
    "def hardware_crc():\n",
    "    \"\"\"\n",
    "    This function is a wrapper around the CRC computation performed on the accelerator.\n",
    "    The data is read from the BRAM and the computed CRC is stored in a list (simulating a buffer)\n",
    "    \"\"\"\n",
    "    # The ith element of the output buffer contains the CRC of ith data element stored in the BRAM\n",
    "    # Data is addressed in the DRAM at 4byte granularity\n",
    "    # output_buffer = [crc32(bram[0]), crc32(bram[1]), ......]\n",
    "\n",
    "    output_buffer = []\n",
    "\n",
    "    for i in range(len(img_hex)):\n",
    "        # output_buffer.append(mmio_bram.read(i*4))\n",
    "        mmio_crc.write(crc_data_offset, mmio_bram.read(i*4))\n",
    "        mmio_crc.write(crc_init_offset, crc_initial_data)\n",
    "        mmio_crc.write(crc_sel_offset, crc_sel_32)\n",
    "        output_buffer.append(mmio_crc.read(crc_result_offset))\n",
    "        \n",
    "    return output_buffer"
   ]
  },
  {
   "cell_type": "code",
   "execution_count": 35,
   "metadata": {
    "scrolled": true
   },
   "outputs": [
    {
     "name": "stdout",
     "output_type": "stream",
     "text": [
      "The total time taken for Hardware:  1.2806587219238281 seconds\n",
      "1 loop, best of 3: 129 ms per loop\n"
     ]
    }
   ],
   "source": [
    "start_hw = time.time()\n",
    "for i in range(10):\n",
    "    hardware_crc()\n",
    "end_hw = time.time()\n",
    "hardware_time = end_hw-start_hw\n",
    "print('The total time taken for Hardware: ', hardware_time, 'seconds')\n",
    "%timeit -n 1 hardware_crc() #o can be used to return time to a variable"
   ]
  },
  {
   "cell_type": "markdown",
   "metadata": {},
   "source": [
    "### Software CRC Performance Metrics\n",
    "\n",
    "We will compute the CRC of the same 4kB image 10 times and obtain the average time taken for the computation."
   ]
  },
  {
   "cell_type": "code",
   "execution_count": 36,
   "metadata": {},
   "outputs": [],
   "source": [
    "# function to compute the CRC and store it in a list.\n",
    "\n",
    "def software_crc():\n",
    "    \"\"\"\n",
    "    This function is a wrapper around the CRC computation performed on the accelerator.\n",
    "    The data is read from the BRAM and the computed CRC is stored in a list (simulating a buffer)\n",
    "    \"\"\"\n",
    "    # The ith element of the output buffer contains the CRC of ith data element stored in the BRAM\n",
    "    # Data is addressed in the DRAM at 4byte granularity\n",
    "    # output_buffer = [crc32(bram[0]), crc32(bram[1]), ......]\n",
    "\n",
    "    output_buffer = []\n",
    "\n",
    "    for i in range(len(img_hex)):\n",
    "        output_buffer.append(soft_crc(hex(mmio_bram.read(i*4))))\n",
    "        \n",
    "    return output_buffer"
   ]
  },
  {
   "cell_type": "code",
   "execution_count": 37,
   "metadata": {},
   "outputs": [
    {
     "name": "stdout",
     "output_type": "stream",
     "text": [
      "The total time taken for Software: 63.36640954017639 seconds\n",
      "1 loop, best of 3: 6.34 s per loop\n"
     ]
    }
   ],
   "source": [
    "start_sw = time.time()\n",
    "for i in range(10):\n",
    "    software_crc()\n",
    "end_sw = time.time()\n",
    "software_time = end_sw-start_sw\n",
    "print('The total time taken for Software:', software_time, 'seconds')\n",
    "%timeit -n 1 software_crc()"
   ]
  },
  {
   "cell_type": "markdown",
   "metadata": {},
   "source": [
    "## Tabulation"
   ]
  },
  {
   "cell_type": "code",
   "execution_count": 38,
   "metadata": {},
   "outputs": [
    {
     "name": "stdout",
     "output_type": "stream",
     "text": [
      "Function Call overhead: 0.01831364631652832 seconds\n",
      "1 loop, best of 3: 4.23 µs per loop\n"
     ]
    }
   ],
   "source": [
    "def reference_function():\n",
    "    ref_buffer = []\n",
    "    \n",
    "    for i in range(len(img_hex)):\n",
    "        ref_buffer.append(i)\n",
    "    \n",
    "    return ref_buffer\n",
    "\n",
    "start_ref = time.time()\n",
    "for i in range(10):\n",
    "    reference_function()\n",
    "end_ref = time.time()\n",
    "ref_time = end_ref - start_ref\n",
    "print('Function Call overhead:', ref_time, 'seconds')\n",
    "%timeit -n 1 reference_function"
   ]
  },
  {
   "cell_type": "code",
   "execution_count": 39,
   "metadata": {},
   "outputs": [
    {
     "data": {
      "text/html": [
       "<div>\n",
       "<style scoped>\n",
       "    .dataframe tbody tr th:only-of-type {\n",
       "        vertical-align: middle;\n",
       "    }\n",
       "\n",
       "    .dataframe tbody tr th {\n",
       "        vertical-align: top;\n",
       "    }\n",
       "\n",
       "    .dataframe thead th {\n",
       "        text-align: right;\n",
       "    }\n",
       "</style>\n",
       "<table border=\"1\" class=\"dataframe\">\n",
       "  <thead>\n",
       "    <tr style=\"text-align: right;\">\n",
       "      <th></th>\n",
       "      <th>Total Time Taken for the Computation (in s)</th>\n",
       "      <th>Time Taken After Subtracting Python Overhead (in s)</th>\n",
       "      <th>Speed-Up when Compared to SW Implementation (in s)</th>\n",
       "    </tr>\n",
       "    <tr>\n",
       "      <th>Method of CRC Calculation</th>\n",
       "      <th></th>\n",
       "      <th></th>\n",
       "      <th></th>\n",
       "    </tr>\n",
       "  </thead>\n",
       "  <tbody>\n",
       "    <tr>\n",
       "      <th>CRC32 Accelerator</th>\n",
       "      <td>1.280659</td>\n",
       "      <td>1.262345</td>\n",
       "      <td>49.479544</td>\n",
       "    </tr>\n",
       "    <tr>\n",
       "      <th>Software CRC32</th>\n",
       "      <td>63.366410</td>\n",
       "      <td>63.348096</td>\n",
       "      <td>1.000000</td>\n",
       "    </tr>\n",
       "  </tbody>\n",
       "</table>\n",
       "</div>"
      ],
      "text/plain": [
       "                           Total Time Taken for the Computation (in s)  \\\n",
       "Method of CRC Calculation                                                \n",
       "CRC32 Accelerator                                             1.280659   \n",
       "Software CRC32                                               63.366410   \n",
       "\n",
       "                           Time Taken After Subtracting Python Overhead (in s)  \\\n",
       "Method of CRC Calculation                                                        \n",
       "CRC32 Accelerator                                                   1.262345     \n",
       "Software CRC32                                                     63.348096     \n",
       "\n",
       "                           Speed-Up when Compared to SW Implementation (in s)  \n",
       "Method of CRC Calculation                                                      \n",
       "CRC32 Accelerator                                                  49.479544   \n",
       "Software CRC32                                                      1.000000   "
      ]
     },
     "metadata": {},
     "output_type": "display_data"
    }
   ],
   "source": [
    "dict = {'Method of CRC Calculation'                            : [\"CRC32 Accelerator\", \"Software CRC32\"],\n",
    "        'Total Time Taken for the Computation (in s)'          : [hardware_time, software_time],\n",
    "        'Time Taken After Subtracting Python Overhead (in s)'  : [hardware_time-ref_time, software_time-ref_time],\n",
    "        'Speed-Up when Compared to SW Implementation (in s)'   : [software_time/hardware_time, software_time/software_time]\n",
    "        }\n",
    "\n",
    "df = pd.DataFrame(dict)\n",
    "df = df.set_index('Method of CRC Calculation', drop=True)\n",
    "df = df[['Total Time Taken for the Computation (in s)',\\\n",
    "         'Time Taken After Subtracting Python Overhead (in s)',\\\n",
    "         'Speed-Up when Compared to SW Implementation (in s)']]\n",
    "display(df)"
   ]
  },
  {
   "cell_type": "markdown",
   "metadata": {},
   "source": [
    "## Parameterized CRC Acceleration\n",
    "\n",
    "In addition to performing 32bit CRC, the Accelerator can also perform 16 bit CRC.\n",
    "\n",
    "The following Section Demostrates 16bit CRC computation on the same image.\n",
    "\n",
    "The final section will tabulate the comparison between 16 bit SW CRC, HW CRC alongside 32bit SW CRC and HW CRC."
   ]
  },
  {
   "cell_type": "markdown",
   "metadata": {},
   "source": [
    "### Read an image and Store it in the BRAM as 16bit Values\n",
    "\n",
    "The size of the BRAM is 8kB. The image is chosen to be smaller than that.\n",
    "\n",
    "![Test Image](.\\test_image.jpg)"
   ]
  },
  {
   "cell_type": "code",
   "execution_count": 40,
   "metadata": {},
   "outputs": [
    {
     "name": "stdout",
     "output_type": "stream",
     "text": [
      "length of the bytestream:  3549\n",
      "length of the hex stream of the image:  7098\n",
      "length of the generated hex stream:  8192\n",
      "number of 16bit elements in the list:  2048\n",
      "size of the image 4096 Bytes\n"
     ]
    }
   ],
   "source": [
    "# path to the file\n",
    "file = \"./test_image.jpg\"\n",
    "# read the file and convert it into a list of hexadecimal values\n",
    "# img_hex = [0xbabecafe, 0xdeadbeef, ..., 0xdeadcafe]\n",
    "img_hex16 = return_hex16_list(file)"
   ]
  },
  {
   "cell_type": "code",
   "execution_count": 41,
   "metadata": {},
   "outputs": [
    {
     "name": "stdout",
     "output_type": "stream",
     "text": [
      "written data into the 8kB BRAM\n"
     ]
    }
   ],
   "source": [
    "bram_address_offset = 0x0\n",
    "for i in range(0, len(img_hex16)):\n",
    "    # Since memory in AXI is byte Addresses, and the access granularity is 4bytes\n",
    "    # the offset should be a multiple of 4\n",
    "    mmio_bram.write(bram_address_offset+(i*4), (img_hex16[i] | 0x00000000))\n",
    "    # we are storing only 16 bits in a 32bit region. this is inefficient but works.\n",
    "\n",
    "print(\"written data into the 8kB BRAM\")"
   ]
  },
  {
   "cell_type": "markdown",
   "metadata": {},
   "source": [
    "### CRC16 BUYPASS Specific Setup\n",
    "The initial value is fixed to 0x00000000 for CRC16BUYPASS(A variation over CRC MODBUS)"
   ]
  },
  {
   "cell_type": "code",
   "execution_count": 42,
   "metadata": {},
   "outputs": [],
   "source": [
    "crc16_initial_data = 0x00000000"
   ]
  },
  {
   "cell_type": "markdown",
   "metadata": {},
   "source": [
    "The CRC IP will read directly from the BRAM and perform the CRC Calculation.\n",
    "The output from the CRC, and the image are stored in a buffer\n",
    "\n",
    "_Ideally this will then get transmitted to the world._\n",
    "\n",
    "But for demonstration, we **do not** send the data out but write it into a _output buffer_.\n",
    "\n",
    "We then copy the data from the _output buffer_ to the _input buffer_ and perform our check on it.\n",
    "This copy operation is expected to mimic a data transfer.\n",
    "\n",
    "The Jupyter notebook functions like a controller interfacing between the CRC IP and the BRAM.\n",
    "\n",
    "### Validating the CRC with software"
   ]
  },
  {
   "cell_type": "code",
   "execution_count": 43,
   "metadata": {},
   "outputs": [
    {
     "name": "stdout",
     "output_type": "stream",
     "text": [
      "Done\n"
     ]
    }
   ],
   "source": [
    "# The output buffer contains the image and the associated CRC at 4byte granularity\n",
    "# output_buffer = [img[0], crc32(img[0]), img[1], crc32(img[1]), ......]\n",
    "output_buffer_hw_16 = []\n",
    "output_buffer_sw_16 = []\n",
    "\n",
    "# for the table\n",
    "image_data_16_buffer = []\n",
    "\n",
    "# compute the 16 bit CRC in hardware\n",
    "for i in range(len(img_hex16)):\n",
    "    mmio_crc.write(crc_data_offset, mmio_bram.read(i*4))\n",
    "    mmio_crc.write(crc_init_offset, crc16_initial_data)\n",
    "    mmio_crc.write(crc_sel_offset, crc_sel_16)\n",
    "    output_buffer_hw_16.append(mmio_crc.read(crc_result_offset))\n",
    "\n",
    "# compute the 16 bit CRC in Software\n",
    "for i in range(len(img_hex16)):\n",
    "    output_buffer_sw_16.append(soft_crc_16(hex(mmio_bram.read(i*4))))\n",
    "    \n",
    "for i in range(10):\n",
    "    image_data_16_buffer.append(hex(mmio_bram.read(i*4)))\n",
    "    \n",
    "print(\"Done\")"
   ]
  },
  {
   "cell_type": "code",
   "execution_count": 44,
   "metadata": {},
   "outputs": [
    {
     "name": "stdout",
     "output_type": "stream",
     "text": [
      "CRC16 BUYPASS - HW and SW match\n"
     ]
    }
   ],
   "source": [
    "print (\"CRC16 BUYPASS - HW and SW match\") if (output_buffer_sw_16 == output_buffer_hw_16) else print (\"HW and SW do not Match\")"
   ]
  },
  {
   "cell_type": "code",
   "execution_count": 45,
   "metadata": {
    "scrolled": false
   },
   "outputs": [
    {
     "data": {
      "text/html": [
       "<div>\n",
       "<style scoped>\n",
       "    .dataframe tbody tr th:only-of-type {\n",
       "        vertical-align: middle;\n",
       "    }\n",
       "\n",
       "    .dataframe tbody tr th {\n",
       "        vertical-align: top;\n",
       "    }\n",
       "\n",
       "    .dataframe thead th {\n",
       "        text-align: right;\n",
       "    }\n",
       "</style>\n",
       "<table border=\"1\" class=\"dataframe\">\n",
       "  <thead>\n",
       "    <tr style=\"text-align: right;\">\n",
       "      <th></th>\n",
       "      <th>Image data in 16b Hex</th>\n",
       "      <th>CRC16 from Accelerator</th>\n",
       "      <th>CRC16 from software library</th>\n",
       "    </tr>\n",
       "    <tr>\n",
       "      <th>element</th>\n",
       "      <th></th>\n",
       "      <th></th>\n",
       "      <th></th>\n",
       "    </tr>\n",
       "  </thead>\n",
       "  <tbody>\n",
       "    <tr>\n",
       "      <th>1</th>\n",
       "      <td>0xffd8</td>\n",
       "      <td>0x80df</td>\n",
       "      <td>0x80df</td>\n",
       "    </tr>\n",
       "    <tr>\n",
       "      <th>2</th>\n",
       "      <td>0xffe0</td>\n",
       "      <td>0x4c</td>\n",
       "      <td>0x4c</td>\n",
       "    </tr>\n",
       "    <tr>\n",
       "      <th>3</th>\n",
       "      <td>0x10</td>\n",
       "      <td>0x8063</td>\n",
       "      <td>0x8063</td>\n",
       "    </tr>\n",
       "    <tr>\n",
       "      <th>4</th>\n",
       "      <td>0x4a46</td>\n",
       "      <td>0x3d91</td>\n",
       "      <td>0x3d91</td>\n",
       "    </tr>\n",
       "    <tr>\n",
       "      <th>5</th>\n",
       "      <td>0x4946</td>\n",
       "      <td>0x3791</td>\n",
       "      <td>0x3791</td>\n",
       "    </tr>\n",
       "    <tr>\n",
       "      <th>6</th>\n",
       "      <td>0x1</td>\n",
       "      <td>0x8005</td>\n",
       "      <td>0x8005</td>\n",
       "    </tr>\n",
       "    <tr>\n",
       "      <th>7</th>\n",
       "      <td>0x100</td>\n",
       "      <td>0x8603</td>\n",
       "      <td>0x8603</td>\n",
       "    </tr>\n",
       "    <tr>\n",
       "      <th>8</th>\n",
       "      <td>0x1</td>\n",
       "      <td>0x8005</td>\n",
       "      <td>0x8005</td>\n",
       "    </tr>\n",
       "    <tr>\n",
       "      <th>9</th>\n",
       "      <td>0x1</td>\n",
       "      <td>0x8005</td>\n",
       "      <td>0x8005</td>\n",
       "    </tr>\n",
       "    <tr>\n",
       "      <th>10</th>\n",
       "      <td>0x0</td>\n",
       "      <td>0x0</td>\n",
       "      <td>0x0</td>\n",
       "    </tr>\n",
       "  </tbody>\n",
       "</table>\n",
       "</div>"
      ],
      "text/plain": [
       "        Image data in 16b Hex CRC16 from Accelerator  \\\n",
       "element                                                \n",
       "1                      0xffd8                 0x80df   \n",
       "2                      0xffe0                   0x4c   \n",
       "3                        0x10                 0x8063   \n",
       "4                      0x4a46                 0x3d91   \n",
       "5                      0x4946                 0x3791   \n",
       "6                         0x1                 0x8005   \n",
       "7                       0x100                 0x8603   \n",
       "8                         0x1                 0x8005   \n",
       "9                         0x1                 0x8005   \n",
       "10                        0x0                    0x0   \n",
       "\n",
       "        CRC16 from software library  \n",
       "element                              \n",
       "1                            0x80df  \n",
       "2                              0x4c  \n",
       "3                            0x8063  \n",
       "4                            0x3d91  \n",
       "5                            0x3791  \n",
       "6                            0x8005  \n",
       "7                            0x8603  \n",
       "8                            0x8005  \n",
       "9                            0x8005  \n",
       "10                              0x0  "
      ]
     },
     "metadata": {},
     "output_type": "display_data"
    }
   ],
   "source": [
    "dict = {'CRC16 from Accelerator'      : [hex(output_buffer_hw_16[i]) for i in range (0,10)],\n",
    "        'CRC16 from software library' : [hex(output_buffer_sw_16[i]) for i in range (0,10)],\n",
    "        'Image data in 16b Hex'       : image_data_16_buffer,\n",
    "        'element'                     : [i for i in range(1, 11)]\n",
    "        }\n",
    "\n",
    "df = pd.DataFrame(dict)\n",
    "df = df.set_index('element', drop=True)\n",
    "df = df[['Image data in 16b Hex', 'CRC16 from Accelerator', 'CRC16 from software library']]\n",
    "display(df)"
   ]
  },
  {
   "cell_type": "markdown",
   "metadata": {},
   "source": [
    "### Hardware CRC Performance Metrics\n",
    "\n",
    "We will compute the CRC of the same 4kB image 10 times and obtain the average time taken for the computation."
   ]
  },
  {
   "cell_type": "code",
   "execution_count": 46,
   "metadata": {},
   "outputs": [],
   "source": [
    "# function to compute the CRC and store it in a list.\n",
    "\n",
    "def hardware_crc_16():\n",
    "    \"\"\"\n",
    "    This function is a wrapper around the CRC computation performed on the accelerator.\n",
    "    The data is read from the BRAM and the computed CRC is stored in a list (simulating a buffer)\n",
    "    \"\"\"\n",
    "    # The ith element of the output buffer contains the CRC of ith data element stored in the BRAM\n",
    "    # Data is addressed in the DRAM at 4byte granularity\n",
    "    # output_buffer = [crc32(bram[0]), crc32(bram[1]), ......]\n",
    "\n",
    "    output_buffer_16 = []\n",
    "\n",
    "    # compute the 16 bit CRC in hardware\n",
    "    for i in range(len(img_hex16)):\n",
    "        mmio_crc.write(crc_data_offset, mmio_bram.read(i*4))\n",
    "        mmio_crc.write(crc_init_offset, crc16_initial_data)\n",
    "        mmio_crc.write(crc_sel_offset, crc_sel_16)\n",
    "        output_buffer_hw_16.append(mmio_crc.read(crc_result_offset))\n",
    "\n",
    "        \n",
    "    return output_buffer_16"
   ]
  },
  {
   "cell_type": "code",
   "execution_count": 47,
   "metadata": {
    "scrolled": true
   },
   "outputs": [
    {
     "name": "stdout",
     "output_type": "stream",
     "text": [
      "The total time taken for Hardware:  2.5211665630340576 seconds\n",
      "1 loop, best of 3: 250 ms per loop\n"
     ]
    }
   ],
   "source": [
    "start_hw_16 = time.time()\n",
    "for i in range(10):\n",
    "    hardware_crc_16()\n",
    "end_hw_16 = time.time()\n",
    "hardware_time_16 = end_hw_16-start_hw_16\n",
    "print('The total time taken for Hardware: ', hardware_time_16, 'seconds')\n",
    "%timeit -n 1 hardware_crc_16() #o can be used to return time to a variable"
   ]
  },
  {
   "cell_type": "markdown",
   "metadata": {},
   "source": [
    "### Software CRC Performance Metrics\n",
    "\n",
    "We will compute the CRC of the same 4kB image 10 times and obtain the average time taken for the computation."
   ]
  },
  {
   "cell_type": "code",
   "execution_count": 48,
   "metadata": {},
   "outputs": [],
   "source": [
    "# function to compute the CRC and store it in a list.\n",
    "\n",
    "def software_crc_16():\n",
    "    \"\"\"\n",
    "    This function is a wrapper around the CRC computation performed on the accelerator.\n",
    "    The data is read from the BRAM and the computed CRC is stored in a list (simulating a buffer)\n",
    "    \"\"\"\n",
    "    # The ith element of the output buffer contains the CRC of ith data element stored in the BRAM\n",
    "    # Data is addressed in the DRAM at 4byte granularity\n",
    "    # output_buffer = [crc32(bram[0]), crc32(bram[1]), ......]\n",
    "\n",
    "    output_buffer = []\n",
    "\n",
    "    for i in range(len(img_hex)):\n",
    "        output_buffer.append(soft_crc_16(hex(mmio_bram.read(i*4))))\n",
    "        \n",
    "    return output_buffer"
   ]
  },
  {
   "cell_type": "code",
   "execution_count": 49,
   "metadata": {},
   "outputs": [
    {
     "name": "stdout",
     "output_type": "stream",
     "text": [
      "The total time taken for Software: 61.861395835876465 seconds\n",
      "1 loop, best of 3: 6.19 s per loop\n"
     ]
    }
   ],
   "source": [
    "start_sw_16 = time.time()\n",
    "for i in range(10):\n",
    "    software_crc_16()\n",
    "end_sw_16 = time.time()\n",
    "software_time_16 = end_sw_16-start_sw_16\n",
    "print('The total time taken for Software:', software_time_16, 'seconds')\n",
    "%timeit -n 1 software_crc_16()"
   ]
  },
  {
   "cell_type": "markdown",
   "metadata": {},
   "source": [
    "## Tabulation"
   ]
  },
  {
   "cell_type": "code",
   "execution_count": 50,
   "metadata": {},
   "outputs": [
    {
     "data": {
      "text/html": [
       "<div>\n",
       "<style scoped>\n",
       "    .dataframe tbody tr th:only-of-type {\n",
       "        vertical-align: middle;\n",
       "    }\n",
       "\n",
       "    .dataframe tbody tr th {\n",
       "        vertical-align: top;\n",
       "    }\n",
       "\n",
       "    .dataframe thead th {\n",
       "        text-align: right;\n",
       "    }\n",
       "</style>\n",
       "<table border=\"1\" class=\"dataframe\">\n",
       "  <thead>\n",
       "    <tr style=\"text-align: right;\">\n",
       "      <th></th>\n",
       "      <th>Total Time Taken for the Computation (in s)</th>\n",
       "      <th>Time Taken After Subtracting Python Overhead (in s)</th>\n",
       "      <th>Speed-Up when Compared to SW Implementation (in s)</th>\n",
       "      <th>Average Speedup</th>\n",
       "    </tr>\n",
       "    <tr>\n",
       "      <th>Method of CRC Calculation</th>\n",
       "      <th></th>\n",
       "      <th></th>\n",
       "      <th></th>\n",
       "      <th></th>\n",
       "    </tr>\n",
       "  </thead>\n",
       "  <tbody>\n",
       "    <tr>\n",
       "      <th>CRC32 Accelerator</th>\n",
       "      <td>1.280659</td>\n",
       "      <td>1.262345</td>\n",
       "      <td>49.479544</td>\n",
       "      <td>NaN</td>\n",
       "    </tr>\n",
       "    <tr>\n",
       "      <th>Software CRC32</th>\n",
       "      <td>63.366410</td>\n",
       "      <td>63.348096</td>\n",
       "      <td>1.000000</td>\n",
       "      <td>NaN</td>\n",
       "    </tr>\n",
       "    <tr>\n",
       "      <th>CRC16 Accelerator</th>\n",
       "      <td>2.521167</td>\n",
       "      <td>2.502853</td>\n",
       "      <td>24.536814</td>\n",
       "      <td>NaN</td>\n",
       "    </tr>\n",
       "    <tr>\n",
       "      <th>Software CRC16</th>\n",
       "      <td>61.861396</td>\n",
       "      <td>61.843082</td>\n",
       "      <td>1.000000</td>\n",
       "      <td>NaN</td>\n",
       "    </tr>\n",
       "    <tr>\n",
       "      <th>Average Speedup</th>\n",
       "      <td>NaN</td>\n",
       "      <td>NaN</td>\n",
       "      <td>NaN</td>\n",
       "      <td>37.008179</td>\n",
       "    </tr>\n",
       "  </tbody>\n",
       "</table>\n",
       "</div>"
      ],
      "text/plain": [
       "                           Total Time Taken for the Computation (in s)  \\\n",
       "Method of CRC Calculation                                                \n",
       "CRC32 Accelerator                                             1.280659   \n",
       "Software CRC32                                               63.366410   \n",
       "CRC16 Accelerator                                             2.521167   \n",
       "Software CRC16                                               61.861396   \n",
       "Average Speedup                                                    NaN   \n",
       "\n",
       "                           Time Taken After Subtracting Python Overhead (in s)  \\\n",
       "Method of CRC Calculation                                                        \n",
       "CRC32 Accelerator                                                   1.262345     \n",
       "Software CRC32                                                     63.348096     \n",
       "CRC16 Accelerator                                                   2.502853     \n",
       "Software CRC16                                                     61.843082     \n",
       "Average Speedup                                                          NaN     \n",
       "\n",
       "                           Speed-Up when Compared to SW Implementation (in s)  \\\n",
       "Method of CRC Calculation                                                       \n",
       "CRC32 Accelerator                                                  49.479544    \n",
       "Software CRC32                                                      1.000000    \n",
       "CRC16 Accelerator                                                  24.536814    \n",
       "Software CRC16                                                      1.000000    \n",
       "Average Speedup                                                          NaN    \n",
       "\n",
       "                           Average Speedup  \n",
       "Method of CRC Calculation                   \n",
       "CRC32 Accelerator                      NaN  \n",
       "Software CRC32                         NaN  \n",
       "CRC16 Accelerator                      NaN  \n",
       "Software CRC16                         NaN  \n",
       "Average Speedup                  37.008179  "
      ]
     },
     "metadata": {},
     "output_type": "display_data"
    }
   ],
   "source": [
    "dict = {'Method of CRC Calculation'                            :\\\n",
    "                [\"CRC32 Accelerator\", \"Software CRC32\",\\\n",
    "                 \"CRC16 Accelerator\", \"Software CRC16\",\\\n",
    "                 \"Average Speedup\"],\n",
    "        'Total Time Taken for the Computation (in s)'          :\\\n",
    "                [hardware_time, software_time,\\\n",
    "                 hardware_time_16, software_time_16,\\\n",
    "                 None],\n",
    "        'Time Taken After Subtracting Python Overhead (in s)'  :\\\n",
    "                [hardware_time-ref_time, software_time-ref_time,\\\n",
    "                 hardware_time_16-ref_time, software_time_16-ref_time,\\\n",
    "                 None],\n",
    "        'Speed-Up when Compared to SW Implementation (in s)'   :\\\n",
    "                [software_time/hardware_time, software_time/software_time,\\\n",
    "                 software_time_16/hardware_time_16, software_time_16/software_time_16,\n",
    "                 None],\n",
    "        'Average Speedup' : [None, None, None, None,\\\n",
    "                    ((software_time/hardware_time)+(software_time_16/hardware_time_16))/2]\n",
    "        }\n",
    "\n",
    "df = pd.DataFrame(dict)\n",
    "df = df.set_index('Method of CRC Calculation', drop=True)\n",
    "df = df[['Total Time Taken for the Computation (in s)',\\\n",
    "         'Time Taken After Subtracting Python Overhead (in s)',\\\n",
    "         'Speed-Up when Compared to SW Implementation (in s)',\\\n",
    "         'Average Speedup']]\n",
    "display(df)"
   ]
  },
  {
   "cell_type": "code",
   "execution_count": null,
   "metadata": {},
   "outputs": [],
   "source": []
  }
 ],
 "metadata": {
  "kernelspec": {
   "display_name": "Python 3",
   "language": "python",
   "name": "python3"
  },
  "language_info": {
   "codemirror_mode": {
    "name": "ipython",
    "version": 3
   },
   "file_extension": ".py",
   "mimetype": "text/x-python",
   "name": "python",
   "nbconvert_exporter": "python",
   "pygments_lexer": "ipython3",
   "version": "3.6.5"
  }
 },
 "nbformat": 4,
 "nbformat_minor": 2
}
