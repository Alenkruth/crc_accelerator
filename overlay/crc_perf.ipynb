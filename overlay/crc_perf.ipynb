{
 "cells": [
  {
   "cell_type": "markdown",
   "metadata": {},
   "source": [
    "# Zynq PS with CRC\n",
    "\n",
    "This Notebook demonstrates the working of a 32bit CRC Accelerator integrated with the Processing System(PS) present in the Zynq 7000 SoC.\n",
    "The CRC IP is a Verilog Module present the Programmable Logic(PL) region of the SoC."
   ]
  },
  {
   "cell_type": "markdown",
   "metadata": {},
   "source": [
    "## Block Diagram of the Demonstrated Hardware\n",
    "\n",
    "TODO - Add block diagram and Explain it here"
   ]
  },
  {
   "cell_type": "markdown",
   "metadata": {},
   "source": [
    "### Importing the required packages"
   ]
  },
  {
   "cell_type": "code",
   "execution_count": 212,
   "metadata": {},
   "outputs": [],
   "source": [
    "# Xilinx PyPi Package import\n",
    "from pynq import Overlay\n",
    "from pynq import MMIO\n",
    "\n",
    "# Non-Xilinx Python package imports\n",
    "import os\n",
    "import numpy as np\n",
    "import binascii\n",
    "from PIL import Image\n",
    "import cv2\n",
    "import random as random\n",
    "from matplotlib import pyplot as plt\n",
    "\n",
    "import pandas as pd\n",
    "from IPython.display import display\n",
    "\n",
    "import crcmod.predefined\n",
    "from codecs import decode as decode\n",
    "\n",
    "# to display the image within the jupyter notebook\n",
    "%matplotlib inline"
   ]
  },
  {
   "cell_type": "markdown",
   "metadata": {},
   "source": [
    "### Set up other Handwritten functions"
   ]
  },
  {
   "cell_type": "markdown",
   "metadata": {},
   "source": [
    "#### Function to load an image and convert it into a list of 32bit hexadecimal values"
   ]
  },
  {
   "cell_type": "code",
   "execution_count": 120,
   "metadata": {},
   "outputs": [],
   "source": [
    "\"\"\"\n",
    "    Function to return the list of hex values when given a file name\n",
    "    input: string = Path to the file\n",
    "    returns: list = the file sliced into 32bit hex elements\n",
    "\"\"\"\n",
    "def return_hex_list(file):\n",
    "    \n",
    "    # read the file\n",
    "    # the file size is 4kb for the examples we use\n",
    "    with open(file, 'rb') as f:\n",
    "        content = f.read()\n",
    "    \n",
    "    # print the length of the bytestream\n",
    "    print(\"length of the bytestream: \", len(content))\n",
    "    \n",
    "    # the list will contain 4bytes per element in hex format\n",
    "    # converting the image data from bytes to hex will lead to a size increase\n",
    "    temp_val = content.hex()\n",
    "    len_tv = len(temp_val)\n",
    "    \n",
    "    # print the length of the bytestream\n",
    "    print(\"length of the hex stream of the image: \", len_tv)    \n",
    "    \n",
    "    # we find the closest power of two to pad the stream\n",
    "    if (len_tv > 1):\n",
    "        for i in range(1, len_tv):\n",
    "            if (2**i >= len_tv):\n",
    "                size = 2**i\n",
    "                break\n",
    "    \n",
    "    print(\"length the hex stream: \", size)\n",
    "    \n",
    "    st = temp_val.ljust(size,'0')\n",
    "    hex_list = []\n",
    "    \n",
    "    for i in range(0, len(st), 8):\n",
    "        #print(st[i], st[i+1], st[i+2], st[i+3])\n",
    "        #print(int(st[i], 16), int(st[i+1], 16), int(st[i+2], 16), int(st[i+3], 16))\n",
    "        hex_list.append(((int(st[i]  , 16) << 28) | \\\n",
    "                         (int(st[i+1], 16) << 24) | \\\n",
    "                         (int(st[i+2], 16) << 20) | \\\n",
    "                         (int(st[i+3], 16) << 16) | \\\n",
    "                         (int(st[i+4], 16) << 12) | \\\n",
    "                         (int(st[i+5], 16) <<  8) | \\\n",
    "                         (int(st[i+6], 16) <<  4) | \\\n",
    "                         (int(st[i+7], 16))))   \n",
    "    \n",
    "    # print the number of 32bit elements in the list\n",
    "    print(\"number of 32bit elements in the list: \", len(hex_list))\n",
    "    print(\"size of the image\", 4*(len(hex_list)), \"Bytes\")\n",
    "    \n",
    "    return hex_list"
   ]
  },
  {
   "cell_type": "markdown",
   "metadata": {},
   "source": [
    "#### Inject random noise into a hex list."
   ]
  },
  {
   "cell_type": "code",
   "execution_count": 437,
   "metadata": {},
   "outputs": [],
   "source": [
    "# noise can affect both data and crc value\n",
    "def noisy(x, threshold):\n",
    "    for i in range (len(x)):\n",
    "        if random.randint(0, 1000) > threshold:\n",
    "            x[i] = x[i] ^ random.randint(0, 2^32) & 0xFFFFFFFF\n",
    "        else:\n",
    "            x[i] = x[i]\n",
    "    return x"
   ]
  },
  {
   "cell_type": "markdown",
   "metadata": {},
   "source": [
    "#### CRC computation with software library"
   ]
  },
  {
   "cell_type": "code",
   "execution_count": 176,
   "metadata": {},
   "outputs": [],
   "source": [
    "def soft_crc(value):\n",
    "    # convert the input stream into bytes\n",
    "    value = value.replace(\"0x\", \"\")\n",
    "    value = value.rjust(8, '0')\n",
    "    value = decode(value, 'hex_codec')\n",
    "    \n",
    "    crc32_func = crcmod.predefined.mkCrcFun('crc-32-mpeg')\n",
    "    res = crc32_func(value)\n",
    "    return res"
   ]
  },
  {
   "cell_type": "markdown",
   "metadata": {},
   "source": [
    "#### Convert a Hex list into an image"
   ]
  },
  {
   "cell_type": "code",
   "execution_count": 379,
   "metadata": {},
   "outputs": [],
   "source": [
    "def hex_to_img(hex_list, filename):\n",
    "    hex_img = []\n",
    "\n",
    "    for i in range(0, len(hex_list)):\n",
    "        hex_img.append(hex(hex_list[i]).replace(\"0x\", '').rjust(8, \"0\"))\n",
    "    \n",
    "    hex_img = codecs.decode(''.join(hex_img), 'hex_codec')\n",
    "    with open(filename, 'wb') as f:\n",
    "        f.write(hex_img)\n",
    "    return(filename)"
   ]
  },
  {
   "cell_type": "markdown",
   "metadata": {},
   "source": [
    "### Creation of the Overlay with the Bitstream"
   ]
  },
  {
   "cell_type": "code",
   "execution_count": 39,
   "metadata": {},
   "outputs": [],
   "source": [
    "ol = Overlay(\"crc_mpeg2.bit\")"
   ]
  },
  {
   "cell_type": "markdown",
   "metadata": {},
   "source": [
    "### Setting up the Memory Regions\n",
    "\n",
    "The CRC IP and the BRAM present in the PL are interfaced as Memory Mapped IPs interacting with the PS through AXI4-Lite."
   ]
  },
  {
   "cell_type": "code",
   "execution_count": 40,
   "metadata": {},
   "outputs": [],
   "source": [
    "# Base address of the CRC IP\n",
    "base_address_crc = 0x43C00000\n",
    "# Base address of the BRAM\n",
    "base_address_mem = 0x40000000\n",
    "\n",
    "# Size of the Memory(In Bytes) mapped to the IP memory/registers in the PS address space\n",
    "# CRC has 4 registers of 32bit width\n",
    "crc_regmem_size = 128\n",
    "\n",
    "# The BRAM size is 8kB\n",
    "bram_mem_size = 8192"
   ]
  },
  {
   "cell_type": "markdown",
   "metadata": {},
   "source": [
    "### Creating MMIO objects to interact with the Memory Mapped IPs"
   ]
  },
  {
   "cell_type": "code",
   "execution_count": 46,
   "metadata": {},
   "outputs": [],
   "source": [
    "# Object to interact with the CRC IP\n",
    "mmio_crc = MMIO(base_address_crc, crc_regmem_size)\n",
    "# Object to interact with the BRAM IP\n",
    "mmio_bram = MMIO(base_address_mem, bram_mem_size)"
   ]
  },
  {
   "cell_type": "markdown",
   "metadata": {},
   "source": [
    "#### Set up address offsets for the MMIO"
   ]
  },
  {
   "cell_type": "code",
   "execution_count": 47,
   "metadata": {},
   "outputs": [],
   "source": [
    "# we use ofsets to read from the MMIO AXI CRC IP\n",
    "crc_address_offset = 0x0\n",
    "\n",
    "# we use ofsets to read from the MMIO AXI BRAM\n",
    "bram_address_offset = 0x0"
   ]
  },
  {
   "cell_type": "markdown",
   "metadata": {},
   "source": [
    "#### Clear the BRAM and write zeros into it."
   ]
  },
  {
   "cell_type": "code",
   "execution_count": 131,
   "metadata": {},
   "outputs": [],
   "source": [
    "for i in range(0, int(bram_mem_size/4)):\n",
    "    # Since memory in AXI is byte Addresses, and the access granularity is 4bytes\n",
    "    # the offset should be a multiple of 4\n",
    "    mmio_bram.write(bram_address_offset+(i*4), 0)"
   ]
  },
  {
   "cell_type": "markdown",
   "metadata": {},
   "source": [
    "#### Clear the CRC input registers and write zeros into it."
   ]
  },
  {
   "cell_type": "code",
   "execution_count": 132,
   "metadata": {},
   "outputs": [],
   "source": [
    "mmio_crc.write(crc_address_offset,0)\n",
    "mmio_crc.write(crc_address_offset+0x4, 0)"
   ]
  },
  {
   "cell_type": "markdown",
   "metadata": {},
   "source": [
    "### Read an image and Store it in the BRAM\n",
    "\n",
    "The size of the BRAM is 8kB. The image is chosen to be smaller than that.\n",
    "\n",
    "![Test Image](.\\test_image.png)"
   ]
  },
  {
   "cell_type": "code",
   "execution_count": 133,
   "metadata": {},
   "outputs": [
    {
     "name": "stdout",
     "output_type": "stream",
     "text": [
      "length of the bytestream:  3987\n",
      "length of the hex stream of the image:  7974\n",
      "length the hex stream:  8192\n",
      "number of 32bit elements in the list:  1024\n",
      "size of the image 4096 Bytes\n"
     ]
    }
   ],
   "source": [
    "# path to the file\n",
    "file = \"./test_image.png\"\n",
    "# read the file and convert it into a list of hexadecimal values\n",
    "# img_hex = [0xbabecafe, 0xdeadbeef, ..., 0xdeadcafe]\n",
    "img_hex = return_hex_list(file)"
   ]
  },
  {
   "cell_type": "markdown",
   "metadata": {},
   "source": [
    "Write into the BRAM"
   ]
  },
  {
   "cell_type": "code",
   "execution_count": 225,
   "metadata": {},
   "outputs": [
    {
     "name": "stdout",
     "output_type": "stream",
     "text": [
      "written data into the 8kB BRAM\n"
     ]
    }
   ],
   "source": [
    "for i in range(0, len(img_hex)):\n",
    "    # Since memory in AXI is byte Addresses, and the access granularity is 4bytes\n",
    "    # the offset should be a multiple of 4\n",
    "    mmio_bram.write(bram_address_offset+(i*4), img_hex[i])\n",
    "\n",
    "print(\"written data into the 8kB BRAM\")"
   ]
  },
  {
   "cell_type": "markdown",
   "metadata": {},
   "source": [
    "## Demonstration of CRC Accelerator detecting error occuring during transmission\n",
    "\n",
    "The Image stored in the BRAM will be transmitted to the receiver along with the CRC of the image."
   ]
  },
  {
   "cell_type": "markdown",
   "metadata": {},
   "source": [
    "### CRC MPEG2 (IEEE 802.3) Specific Setup\n",
    "The initial value is fixed to 0xFFFFFFFF for IEEE 802.3"
   ]
  },
  {
   "cell_type": "code",
   "execution_count": 226,
   "metadata": {},
   "outputs": [],
   "source": [
    "crc_initial_data = 0xffffffff"
   ]
  },
  {
   "cell_type": "markdown",
   "metadata": {},
   "source": [
    "The CRC IP will read directly from the BRAM and perform the CRC Calculation.\n",
    "The output from the CRC, and the image are stored in a buffer\n",
    "\n",
    "_Ideally this will then get transmitted to the world._\n",
    "\n",
    "But for demonstration, we **do not** send the data out but write it into a _output buffer_.\n",
    "\n",
    "We then copy the data from the _output buffer_ to the _input buffer_ and perform our check on it.\n",
    "This copy operation is expected to mimic a data transfer.\n",
    "\n",
    "The Jupyter notebook functions like a controller interfacing between the CRC IP and the BRAM."
   ]
  },
  {
   "cell_type": "markdown",
   "metadata": {},
   "source": [
    "### Transmitter End"
   ]
  },
  {
   "cell_type": "code",
   "execution_count": 438,
   "metadata": {},
   "outputs": [],
   "source": [
    "# The output buffer contains the image and the associated CRC at 4byte granularity\n",
    "# output_buffer = [img[0], crc32(img[0]), img[1], crc32(img[1]), ......]\n",
    "output_buffer = []\n",
    "\n",
    "for i in range(len(img_hex)):\n",
    "    output_buffer.append(mmio_bram.read(i*4))\n",
    "    mmio_crc.write(crc_address_offset, output_buffer[i*2])\n",
    "    mmio_crc.write(crc_address_offset+0x4, crc_initial_data)\n",
    "    output_buffer.append(mmio_crc.read(0x8))"
   ]
  },
  {
   "cell_type": "markdown",
   "metadata": {},
   "source": [
    "### Receiver End\n",
    "\n",
    "The receiver will receive 32 bit packets.\n",
    "The order of packets is\n",
    "\n",
    "Packet 1 - Image[0:31]\n",
    "\n",
    "Packet 2 - CRC of Packet[1]\n",
    "\n",
    "...\n",
    "\n",
    "Packet n-1 - Image[n-31:n]\n",
    "\n",
    "Packet n - CRC of Packet[n]"
   ]
  },
  {
   "cell_type": "code",
   "execution_count": 409,
   "metadata": {},
   "outputs": [],
   "source": [
    "# Mimic the transmission\n",
    "input_buffer = output_buffer\n",
    "\n",
    "# The input_buffer will feed two separate buffers, CRC buffer and data buffer\n",
    "data_input_buffer = []\n",
    "crc_input_buffer = []\n",
    "\n",
    "# distribute the data to the two dedicated buffers\n",
    "for i in range(0, len(input_buffer), 2):\n",
    "    data_input_buffer.append(input_buffer[i])\n",
    "    crc_input_buffer.append(input_buffer[i+1])\n",
    "\n",
    "calculated_crc_buffer = []\n",
    "# we use ofsets to read from the MMIO AXI CRC IP\n",
    "crc_address_offset = 0x0\n",
    "\n",
    "for i in range(len(data_input_buffer)):\n",
    "    mmio_crc.write(crc_address_offset, data_input_buffer[i])\n",
    "    mmio_crc.write(crc_address_offset+0x4, crc_initial_data)\n",
    "    calculated_crc_buffer.append(mmio_crc.read(0x8))"
   ]
  },
  {
   "cell_type": "raw",
   "metadata": {},
   "source": [
    "Convert Hex to Image"
   ]
  },
  {
   "cell_type": "code",
   "execution_count": 412,
   "metadata": {},
   "outputs": [
    {
     "data": {
      "text/plain": [
       "'./without_noise.png'"
      ]
     },
     "execution_count": 412,
     "metadata": {},
     "output_type": "execute_result"
    }
   ],
   "source": [
    "hex_to_img(data_input_buffer, './without_noise.png')"
   ]
  },
  {
   "cell_type": "markdown",
   "metadata": {},
   "source": [
    "### The transmitted Image is"
   ]
  },
  {
   "cell_type": "code",
   "execution_count": 413,
   "metadata": {
    "scrolled": true
   },
   "outputs": [
    {
     "data": {
      "image/png": "[encoded data removed]",
      "text/plain": [
       "<PIL.PngImagePlugin.PngImageFile image mode=P size=867x336 at 0xA748EBD0>"
      ]
     },
     "metadata": {},
     "output_type": "display_data"
    }
   ],
   "source": [
    "test_im = Image.open('./without_noise.png')\n",
    "display(test_im)"
   ]
  },
  {
   "cell_type": "markdown",
   "metadata": {},
   "source": [
    "#### Compare the Calculated CRC and the Received CRC"
   ]
  },
  {
   "cell_type": "code",
   "execution_count": 410,
   "metadata": {},
   "outputs": [
    {
     "name": "stdout",
     "output_type": "stream",
     "text": [
      "MATCH\n"
     ]
    }
   ],
   "source": [
    "print(\"MATCH\") if (crc_input_buffer == calculated_crc_buffer) else print(\"RESEND DATA\")"
   ]
  },
  {
   "cell_type": "code",
   "execution_count": 411,
   "metadata": {},
   "outputs": [
    {
     "name": "stdout",
     "output_type": "stream",
     "text": [
      "Number of Mismatches 0\n"
     ]
    }
   ],
   "source": [
    "count = 0\n",
    "for i in range(len(crc_input_buffer)):\n",
    "    if (crc_input_buffer[i] != calculated_crc_buffer[i]):\n",
    "        print('CRC mismatch for Data Element', i)\n",
    "        count =  count + 1\n",
    "\n",
    "print('Number of Mismatches', count)"
   ]
  },
  {
   "cell_type": "markdown",
   "metadata": {},
   "source": [
    "### Validate CRC"
   ]
  },
  {
   "cell_type": "code",
   "execution_count": 348,
   "metadata": {},
   "outputs": [],
   "source": [
    "crc_output_buffer = []\n",
    "software_crc_buffer = []\n",
    "\n",
    "for i in range(1, len(output_buffer), 2):\n",
    "    crc_output_buffer.append(hex(output_buffer[i]))\n",
    "\n",
    "for i in range(0, len(output_buffer), 2):\n",
    "    software_crc_buffer.append(hex(soft_crc(hex(output_buffer[i]))))"
   ]
  },
  {
   "cell_type": "code",
   "execution_count": 349,
   "metadata": {},
   "outputs": [
    {
     "name": "stdout",
     "output_type": "stream",
     "text": [
      "SW and HW CRC Match\n"
     ]
    }
   ],
   "source": [
    "print(\"SW and HW CRC Match\") if (crc_output_buffer == software_crc_buffer) else print(\"SW and HW CRC Mismatch\")"
   ]
  },
  {
   "cell_type": "code",
   "execution_count": 350,
   "metadata": {},
   "outputs": [
    {
     "name": "stdout",
     "output_type": "stream",
     "text": [
      "Size of the image in 32b granularity: 1024\n",
      "Size of the output_buffer: 2048\n"
     ]
    },
    {
     "data": {
      "text/html": [
       "<div>\n",
       "<style scoped>\n",
       "    .dataframe tbody tr th:only-of-type {\n",
       "        vertical-align: middle;\n",
       "    }\n",
       "\n",
       "    .dataframe tbody tr th {\n",
       "        vertical-align: top;\n",
       "    }\n",
       "\n",
       "    .dataframe thead th {\n",
       "        text-align: right;\n",
       "    }\n",
       "</style>\n",
       "<table border=\"1\" class=\"dataframe\">\n",
       "  <thead>\n",
       "    <tr style=\"text-align: right;\">\n",
       "      <th></th>\n",
       "      <th>Image in 32b Hex</th>\n",
       "      <th>CRC from Accelerator</th>\n",
       "      <th>CRC from software library</th>\n",
       "    </tr>\n",
       "  </thead>\n",
       "  <tbody>\n",
       "    <tr>\n",
       "      <th>0</th>\n",
       "      <td>0x89504e47</td>\n",
       "      <td>0x2bddbba1</td>\n",
       "      <td>0x2bddbba1</td>\n",
       "    </tr>\n",
       "    <tr>\n",
       "      <th>1</th>\n",
       "      <td>0xd0a1a0a</td>\n",
       "      <td>0x86633e6d</td>\n",
       "      <td>0x86633e6d</td>\n",
       "    </tr>\n",
       "    <tr>\n",
       "      <th>2</th>\n",
       "      <td>0xd</td>\n",
       "      <td>0xf6c95ba8</td>\n",
       "      <td>0xf6c95ba8</td>\n",
       "    </tr>\n",
       "    <tr>\n",
       "      <th>3</th>\n",
       "      <td>0x49484452</td>\n",
       "      <td>0x3e09d7e7</td>\n",
       "      <td>0x3e09d7e7</td>\n",
       "    </tr>\n",
       "    <tr>\n",
       "      <th>4</th>\n",
       "      <td>0x363</td>\n",
       "      <td>0x140962e6</td>\n",
       "      <td>0x140962e6</td>\n",
       "    </tr>\n",
       "    <tr>\n",
       "      <th>5</th>\n",
       "      <td>0x150</td>\n",
       "      <td>0x6d8ab7a0</td>\n",
       "      <td>0x6d8ab7a0</td>\n",
       "    </tr>\n",
       "    <tr>\n",
       "      <th>6</th>\n",
       "      <td>0x1030000</td>\n",
       "      <td>0x1900b245</td>\n",
       "      <td>0x1900b245</td>\n",
       "    </tr>\n",
       "    <tr>\n",
       "      <th>7</th>\n",
       "      <td>0x88e34</td>\n",
       "      <td>0xe3e58663</td>\n",
       "      <td>0xe3e58663</td>\n",
       "    </tr>\n",
       "    <tr>\n",
       "      <th>8</th>\n",
       "      <td>0x60000000</td>\n",
       "      <td>0xfcfe0bdf</td>\n",
       "      <td>0xfcfe0bdf</td>\n",
       "    </tr>\n",
       "    <tr>\n",
       "      <th>9</th>\n",
       "      <td>0x6504c54</td>\n",
       "      <td>0x89f3837b</td>\n",
       "      <td>0x89f3837b</td>\n",
       "    </tr>\n",
       "  </tbody>\n",
       "</table>\n",
       "</div>"
      ],
      "text/plain": [
       "  Image in 32b Hex CRC from Accelerator CRC from software library\n",
       "0       0x89504e47           0x2bddbba1                0x2bddbba1\n",
       "1        0xd0a1a0a           0x86633e6d                0x86633e6d\n",
       "2              0xd           0xf6c95ba8                0xf6c95ba8\n",
       "3       0x49484452           0x3e09d7e7                0x3e09d7e7\n",
       "4            0x363           0x140962e6                0x140962e6\n",
       "5            0x150           0x6d8ab7a0                0x6d8ab7a0\n",
       "6        0x1030000           0x1900b245                0x1900b245\n",
       "7          0x88e34           0xe3e58663                0xe3e58663\n",
       "8       0x60000000           0xfcfe0bdf                0xfcfe0bdf\n",
       "9        0x6504c54           0x89f3837b                0x89f3837b"
      ]
     },
     "metadata": {},
     "output_type": "display_data"
    }
   ],
   "source": [
    "print('Size of the image in 32b granularity:', len(img_hex))\n",
    "print('Size of the output_buffer:', len(output_buffer))\n",
    "\n",
    "\n",
    "temp_img_hex = []\n",
    "temp_output_buffer = []\n",
    "\n",
    "for i in range(0, 10):\n",
    "    temp_img_hex.append(hex(img_hex[i]))\n",
    "for i in range(0, 20, 2):\n",
    "    temp_output_buffer.append(hex(output_buffer[i+1]))\n",
    "\n",
    "software_crc = []\n",
    "\n",
    "# CRC results from software library\n",
    "for i in range(0, 10):\n",
    "    software_crc.append(hex(soft_crc(temp_img_hex[i])))\n",
    "    \n",
    "dict = {'CRC from Accelerator'      : temp_output_buffer,\n",
    "        'CRC from software library' : software_crc,\n",
    "        'Image in 32b Hex'          : temp_img_hex\n",
    "        }\n",
    "\n",
    "df = pd.DataFrame(dict)\n",
    "df = df[['Image in 32b Hex', 'CRC from Accelerator', 'CRC from software library']]\n",
    "display(df)"
   ]
  },
  {
   "cell_type": "markdown",
   "metadata": {},
   "source": [
    "## Let us Make it Noisy"
   ]
  },
  {
   "cell_type": "code",
   "execution_count": 445,
   "metadata": {},
   "outputs": [],
   "source": [
    "# Data to input buffer witnesses noise and gets corrupted\n",
    "input_buffer = noisy(output_buffer, 998)"
   ]
  },
  {
   "cell_type": "code",
   "execution_count": 446,
   "metadata": {},
   "outputs": [],
   "source": [
    "# The input_buffer will feed two separate buffers, CRC buffer and data buffer\n",
    "data_input_buffer = []\n",
    "crc_input_buffer = []\n",
    "\n",
    "# we use ofsets to read from the MMIO AXI CRC IP\n",
    "crc_address_offset = 0x0\n",
    "\n",
    "# distribute the data to the two dedicated buffers\n",
    "for i in range(0, len(input_buffer), 2):\n",
    "    data_input_buffer.append(input_buffer[i])\n",
    "    crc_input_buffer.append(input_buffer[i+1])\n",
    "\n",
    "calculated_crc_buffer = []\n",
    "\n",
    "for i in range(len(data_input_buffer)):\n",
    "    mmio_crc.write(crc_address_offset, data_input_buffer[i])\n",
    "    mmio_crc.write(crc_address_offset+0x4, crc_initial_data)\n",
    "    calculated_crc_buffer.append(mmio_crc.read(0x8))"
   ]
  },
  {
   "cell_type": "markdown",
   "metadata": {},
   "source": [
    "Convert Hex to Image"
   ]
  },
  {
   "cell_type": "code",
   "execution_count": 449,
   "metadata": {},
   "outputs": [
    {
     "data": {
      "text/plain": [
       "'./with_noise.png'"
      ]
     },
     "execution_count": 449,
     "metadata": {},
     "output_type": "execute_result"
    }
   ],
   "source": [
    "hex_to_img(data_input_buffer, './with_noise.png')"
   ]
  },
  {
   "cell_type": "markdown",
   "metadata": {},
   "source": [
    "### The transmitted Image is\n",
    "\n",
    "The image is usually not printed due to data corruption"
   ]
  },
  {
   "cell_type": "code",
   "execution_count": 451,
   "metadata": {},
   "outputs": [
    {
     "ename": "OSError",
     "evalue": "unrecognized data stream contents when reading image file",
     "output_type": "error",
     "traceback": [
      "\u001b[0;31m---------------------------------------------------------------------------\u001b[0m",
      "\u001b[0;31mOSError\u001b[0m                                   Traceback (most recent call last)",
      "\u001b[0;32m/usr/lib/python3/dist-packages/IPython/core/formatters.py\u001b[0m in \u001b[0;36m__call__\u001b[0;34m(self, obj)\u001b[0m\n\u001b[1;32m    336\u001b[0m             \u001b[0mmethod\u001b[0m \u001b[0;34m=\u001b[0m \u001b[0mget_real_method\u001b[0m\u001b[0;34m(\u001b[0m\u001b[0mobj\u001b[0m\u001b[0;34m,\u001b[0m \u001b[0mself\u001b[0m\u001b[0;34m.\u001b[0m\u001b[0mprint_method\u001b[0m\u001b[0;34m)\u001b[0m\u001b[0;34m\u001b[0m\u001b[0m\n\u001b[1;32m    337\u001b[0m             \u001b[0;32mif\u001b[0m \u001b[0mmethod\u001b[0m \u001b[0;32mis\u001b[0m \u001b[0;32mnot\u001b[0m \u001b[0;32mNone\u001b[0m\u001b[0;34m:\u001b[0m\u001b[0;34m\u001b[0m\u001b[0m\n\u001b[0;32m--> 338\u001b[0;31m                 \u001b[0;32mreturn\u001b[0m \u001b[0mmethod\u001b[0m\u001b[0;34m(\u001b[0m\u001b[0;34m)\u001b[0m\u001b[0;34m\u001b[0m\u001b[0m\n\u001b[0m\u001b[1;32m    339\u001b[0m             \u001b[0;32mreturn\u001b[0m \u001b[0;32mNone\u001b[0m\u001b[0;34m\u001b[0m\u001b[0m\n\u001b[1;32m    340\u001b[0m         \u001b[0;32melse\u001b[0m\u001b[0;34m:\u001b[0m\u001b[0;34m\u001b[0m\u001b[0m\n",
      "\u001b[0;32m/usr/lib/python3/dist-packages/PIL/Image.py\u001b[0m in \u001b[0;36m_repr_png_\u001b[0;34m(self)\u001b[0m\n\u001b[1;32m    657\u001b[0m         \u001b[0;32mfrom\u001b[0m \u001b[0mio\u001b[0m \u001b[0;32mimport\u001b[0m \u001b[0mBytesIO\u001b[0m\u001b[0;34m\u001b[0m\u001b[0m\n\u001b[1;32m    658\u001b[0m         \u001b[0mb\u001b[0m \u001b[0;34m=\u001b[0m \u001b[0mBytesIO\u001b[0m\u001b[0;34m(\u001b[0m\u001b[0;34m)\u001b[0m\u001b[0;34m\u001b[0m\u001b[0m\n\u001b[0;32m--> 659\u001b[0;31m         \u001b[0mself\u001b[0m\u001b[0;34m.\u001b[0m\u001b[0msave\u001b[0m\u001b[0;34m(\u001b[0m\u001b[0mb\u001b[0m\u001b[0;34m,\u001b[0m \u001b[0;34m'PNG'\u001b[0m\u001b[0;34m)\u001b[0m\u001b[0;34m\u001b[0m\u001b[0m\n\u001b[0m\u001b[1;32m    660\u001b[0m         \u001b[0;32mreturn\u001b[0m \u001b[0mb\u001b[0m\u001b[0;34m.\u001b[0m\u001b[0mgetvalue\u001b[0m\u001b[0;34m(\u001b[0m\u001b[0;34m)\u001b[0m\u001b[0;34m\u001b[0m\u001b[0m\n\u001b[1;32m    661\u001b[0m \u001b[0;34m\u001b[0m\u001b[0m\n",
      "\u001b[0;32m/usr/lib/python3/dist-packages/PIL/Image.py\u001b[0m in \u001b[0;36msave\u001b[0;34m(self, fp, format, **params)\u001b[0m\n\u001b[1;32m   1897\u001b[0m \u001b[0;34m\u001b[0m\u001b[0m\n\u001b[1;32m   1898\u001b[0m         \u001b[0;31m# may mutate self!\u001b[0m\u001b[0;34m\u001b[0m\u001b[0;34m\u001b[0m\u001b[0m\n\u001b[0;32m-> 1899\u001b[0;31m         \u001b[0mself\u001b[0m\u001b[0;34m.\u001b[0m\u001b[0mload\u001b[0m\u001b[0;34m(\u001b[0m\u001b[0;34m)\u001b[0m\u001b[0;34m\u001b[0m\u001b[0m\n\u001b[0m\u001b[1;32m   1900\u001b[0m \u001b[0;34m\u001b[0m\u001b[0m\n\u001b[1;32m   1901\u001b[0m         \u001b[0msave_all\u001b[0m \u001b[0;34m=\u001b[0m \u001b[0;32mFalse\u001b[0m\u001b[0;34m\u001b[0m\u001b[0m\n",
      "\u001b[0;32m/usr/lib/python3/dist-packages/PIL/ImageFile.py\u001b[0m in \u001b[0;36mload\u001b[0;34m(self)\u001b[0m\n\u001b[1;32m    248\u001b[0m         \u001b[0;32mif\u001b[0m \u001b[0;32mnot\u001b[0m \u001b[0mself\u001b[0m\u001b[0;34m.\u001b[0m\u001b[0mmap\u001b[0m \u001b[0;32mand\u001b[0m \u001b[0;32mnot\u001b[0m \u001b[0mLOAD_TRUNCATED_IMAGES\u001b[0m \u001b[0;32mand\u001b[0m \u001b[0merr_code\u001b[0m \u001b[0;34m<\u001b[0m \u001b[0;36m0\u001b[0m\u001b[0;34m:\u001b[0m\u001b[0;34m\u001b[0m\u001b[0m\n\u001b[1;32m    249\u001b[0m             \u001b[0;31m# still raised if decoder fails to return anything\u001b[0m\u001b[0;34m\u001b[0m\u001b[0;34m\u001b[0m\u001b[0m\n\u001b[0;32m--> 250\u001b[0;31m             \u001b[0mraise_ioerror\u001b[0m\u001b[0;34m(\u001b[0m\u001b[0merr_code\u001b[0m\u001b[0;34m)\u001b[0m\u001b[0;34m\u001b[0m\u001b[0m\n\u001b[0m\u001b[1;32m    251\u001b[0m \u001b[0;34m\u001b[0m\u001b[0m\n\u001b[1;32m    252\u001b[0m         \u001b[0;32mreturn\u001b[0m \u001b[0mImage\u001b[0m\u001b[0;34m.\u001b[0m\u001b[0mImage\u001b[0m\u001b[0;34m.\u001b[0m\u001b[0mload\u001b[0m\u001b[0;34m(\u001b[0m\u001b[0mself\u001b[0m\u001b[0;34m)\u001b[0m\u001b[0;34m\u001b[0m\u001b[0m\n",
      "\u001b[0;32m/usr/lib/python3/dist-packages/PIL/ImageFile.py\u001b[0m in \u001b[0;36mraise_ioerror\u001b[0;34m(error)\u001b[0m\n\u001b[1;32m     57\u001b[0m     \u001b[0;32mif\u001b[0m \u001b[0;32mnot\u001b[0m \u001b[0mmessage\u001b[0m\u001b[0;34m:\u001b[0m\u001b[0;34m\u001b[0m\u001b[0m\n\u001b[1;32m     58\u001b[0m         \u001b[0mmessage\u001b[0m \u001b[0;34m=\u001b[0m \u001b[0;34m\"decoder error %d\"\u001b[0m \u001b[0;34m%\u001b[0m \u001b[0merror\u001b[0m\u001b[0;34m\u001b[0m\u001b[0m\n\u001b[0;32m---> 59\u001b[0;31m     \u001b[0;32mraise\u001b[0m \u001b[0mIOError\u001b[0m\u001b[0;34m(\u001b[0m\u001b[0mmessage\u001b[0m \u001b[0;34m+\u001b[0m \u001b[0;34m\" when reading image file\"\u001b[0m\u001b[0;34m)\u001b[0m\u001b[0;34m\u001b[0m\u001b[0m\n\u001b[0m\u001b[1;32m     60\u001b[0m \u001b[0;34m\u001b[0m\u001b[0m\n\u001b[1;32m     61\u001b[0m \u001b[0;34m\u001b[0m\u001b[0m\n",
      "\u001b[0;31mOSError\u001b[0m: unrecognized data stream contents when reading image file"
     ]
    },
    {
     "data": {
      "text/plain": [
       "<PIL.PngImagePlugin.PngImageFile image mode=P size=867x336 at 0xA3E84F90>"
      ]
     },
     "metadata": {},
     "output_type": "display_data"
    }
   ],
   "source": [
    "test_im = Image.open('./with_noise.png')\n",
    "try:\n",
    "    display(test_im) \n",
    "except Error as e:\n",
    "    print(e.Error)"
   ]
  },
  {
   "cell_type": "code",
   "execution_count": 447,
   "metadata": {},
   "outputs": [
    {
     "name": "stdout",
     "output_type": "stream",
     "text": [
      "RESEND DATA\n"
     ]
    }
   ],
   "source": [
    "print(\"MATCH\") if (crc_input_buffer == calculated_crc_buffer) else print(\"RESEND DATA\")"
   ]
  },
  {
   "cell_type": "code",
   "execution_count": 448,
   "metadata": {},
   "outputs": [
    {
     "name": "stdout",
     "output_type": "stream",
     "text": [
      "CRC mismatch for Data Element 287\n",
      "CRC mismatch for Data Element 864\n",
      "CRC mismatch for Data Element 947\n",
      "Number of Mismatches 3\n"
     ]
    }
   ],
   "source": [
    "count = 0\n",
    "for i in range(len(crc_input_buffer)):\n",
    "    if (crc_input_buffer[i] != calculated_crc_buffer[i]):\n",
    "        print('CRC mismatch for Data Element', i)\n",
    "        count =  count + 1\n",
    "\n",
    "print('Number of Mismatches', count)"
   ]
  },
  {
   "cell_type": "markdown",
   "metadata": {},
   "source": [
    "Error can occur in both the Data as well as the CRC."
   ]
  },
  {
   "cell_type": "markdown",
   "metadata": {},
   "source": [
    "## Demonstrate Performance Over Software Libraries"
   ]
  },
  {
   "cell_type": "code",
   "execution_count": null,
   "metadata": {},
   "outputs": [],
   "source": []
  },
  {
   "cell_type": "code",
   "execution_count": null,
   "metadata": {},
   "outputs": [],
   "source": []
  },
  {
   "cell_type": "code",
   "execution_count": null,
   "metadata": {},
   "outputs": [],
   "source": []
  },
  {
   "cell_type": "code",
   "execution_count": null,
   "metadata": {},
   "outputs": [],
   "source": []
  },
  {
   "cell_type": "code",
   "execution_count": null,
   "metadata": {},
   "outputs": [],
   "source": []
  },
  {
   "cell_type": "code",
   "execution_count": null,
   "metadata": {},
   "outputs": [],
   "source": []
  },
  {
   "cell_type": "code",
   "execution_count": null,
   "metadata": {},
   "outputs": [],
   "source": []
  },
  {
   "cell_type": "code",
   "execution_count": null,
   "metadata": {},
   "outputs": [],
   "source": [
    "# read the image and display it\n",
    "filename = './test_image.png'\n",
    "pil_im = Image.open(filename)\n",
    "#display(pil_im)"
   ]
  },
  {
   "cell_type": "code",
   "execution_count": 110,
   "metadata": {},
   "outputs": [
    {
     "name": "stdout",
     "output_type": "stream",
     "text": [
      "(336, 867, 3)\n"
     ]
    },
    {
     "data": {
      "image/png": "[encoded data removed]",
      "text/plain": [
       "<PIL.PngImagePlugin.PngImageFile image mode=RGB size=867x336 at 0xA68592B0>"
      ]
     },
     "metadata": {},
     "output_type": "display_data"
    },
    {
     "name": "stderr",
     "output_type": "stream",
     "text": [
      "/usr/lib/python3/dist-packages/ipykernel_launcher.py:18: FutureWarning: Using a non-tuple sequence for multidimensional indexing is deprecated; use `arr[tuple(seq)]` instead of `arr[seq]`. In the future this will be interpreted as an array index, `arr[np.array(seq)]`, which will result either in an error or a different result.\n",
      "/usr/lib/python3/dist-packages/ipykernel_launcher.py:24: FutureWarning: Using a non-tuple sequence for multidimensional indexing is deprecated; use `arr[tuple(seq)]` instead of `arr[seq]`. In the future this will be interpreted as an array index, `arr[np.array(seq)]`, which will result either in an error or a different result.\n"
     ]
    },
    {
     "name": "stdout",
     "output_type": "stream",
     "text": [
      "why\n"
     ]
    },
    {
     "data": {
      "image/png": "[encoded data removed]",
      "text/plain": [
       "<PIL.Image.Image image mode=RGB size=867x336 at 0xA6859290>"
      ]
     },
     "metadata": {},
     "output_type": "display_data"
    }
   ],
   "source": [
    "im = cv2.imread('./test_image.png')\n",
    "test_im = Image.open('./test_image_peppers.png')\n",
    "print(im.shape)\n",
    "display(test_im)\n",
    "# print(type(noisy(\"s&p\", im)))\n",
    "# plt.imshow(noisy(\"s&p\", im))\n",
    "# plt.show\n",
    "\n",
    "im = Image.fromarray(noisy(im))\n",
    "print(\"why\")\n",
    "display(im)\n",
    "im.save('test_image_peppers.png', \"PNG\", optimize=True, quality=80)"
   ]
  },
  {
   "cell_type": "code",
   "execution_count": 84,
   "metadata": {},
   "outputs": [],
   "source": [
    "# read the image as bytes\n",
    "with open(filename, 'rb') as f:\n",
    "    content = f.read()#.hex()\n",
    "hex_val = binascii.hexlify(content)\n",
    "#print(len(content))\n",
    "#print((hex_val))"
   ]
  },
  {
   "cell_type": "code",
   "execution_count": 85,
   "metadata": {},
   "outputs": [],
   "source": []
  },
  {
   "cell_type": "code",
   "execution_count": null,
   "metadata": {},
   "outputs": [],
   "source": []
  },
  {
   "cell_type": "code",
   "execution_count": 54,
   "metadata": {},
   "outputs": [
    {
     "ename": "IndexError",
     "evalue": "string index out of range",
     "output_type": "error",
     "traceback": [
      "\u001b[0;31m---------------------------------------------------------------------------\u001b[0m",
      "\u001b[0;31mIndexError\u001b[0m                                Traceback (most recent call last)",
      "\u001b[0;32m<ipython-input-54-52869befd45f>\u001b[0m in \u001b[0;36m<module>\u001b[0;34m()\u001b[0m\n\u001b[1;32m      5\u001b[0m     \u001b[0;32mreturn\u001b[0m \u001b[0mdummy\u001b[0m\u001b[0;34m\u001b[0m\u001b[0m\n\u001b[1;32m      6\u001b[0m \u001b[0;34m\u001b[0m\u001b[0m\n\u001b[0;32m----> 7\u001b[0;31m \u001b[0mhex_8k\u001b[0m \u001b[0;34m=\u001b[0m \u001b[0mreturn_hex\u001b[0m\u001b[0;34m(\u001b[0m\u001b[0mcontent\u001b[0m\u001b[0;34m)\u001b[0m\u001b[0;34m\u001b[0m\u001b[0m\n\u001b[0m",
      "\u001b[0;32m<ipython-input-54-52869befd45f>\u001b[0m in \u001b[0;36mreturn_hex\u001b[0;34m(st)\u001b[0m\n\u001b[1;32m      2\u001b[0m     \u001b[0mdummy\u001b[0m \u001b[0;34m=\u001b[0m \u001b[0;34m[\u001b[0m\u001b[0;34m]\u001b[0m\u001b[0;34m\u001b[0m\u001b[0m\n\u001b[1;32m      3\u001b[0m     \u001b[0;32mfor\u001b[0m \u001b[0mi\u001b[0m \u001b[0;32min\u001b[0m \u001b[0mrange\u001b[0m\u001b[0;34m(\u001b[0m\u001b[0;36m0\u001b[0m\u001b[0;34m,\u001b[0m \u001b[0mlen\u001b[0m\u001b[0;34m(\u001b[0m\u001b[0mst\u001b[0m\u001b[0;34m)\u001b[0m\u001b[0;34m,\u001b[0m \u001b[0;36m4\u001b[0m\u001b[0;34m)\u001b[0m\u001b[0;34m:\u001b[0m\u001b[0;34m\u001b[0m\u001b[0m\n\u001b[0;32m----> 4\u001b[0;31m         \u001b[0mdummy\u001b[0m\u001b[0;34m.\u001b[0m\u001b[0mappend\u001b[0m\u001b[0;34m(\u001b[0m\u001b[0;34m(\u001b[0m\u001b[0;34m(\u001b[0m\u001b[0mord\u001b[0m\u001b[0;34m(\u001b[0m\u001b[0mst\u001b[0m\u001b[0;34m[\u001b[0m\u001b[0mi\u001b[0m\u001b[0;34m]\u001b[0m\u001b[0;34m)\u001b[0m \u001b[0;34m<<\u001b[0m \u001b[0;36m24\u001b[0m\u001b[0;34m)\u001b[0m \u001b[0;34m|\u001b[0m \u001b[0;34m(\u001b[0m\u001b[0mord\u001b[0m\u001b[0;34m(\u001b[0m\u001b[0mst\u001b[0m\u001b[0;34m[\u001b[0m\u001b[0mi\u001b[0m\u001b[0;34m+\u001b[0m\u001b[0;36m1\u001b[0m\u001b[0;34m]\u001b[0m\u001b[0;34m)\u001b[0m \u001b[0;34m<<\u001b[0m \u001b[0;36m16\u001b[0m\u001b[0;34m)\u001b[0m \u001b[0;34m|\u001b[0m \u001b[0;34m(\u001b[0m\u001b[0mord\u001b[0m\u001b[0;34m(\u001b[0m\u001b[0mst\u001b[0m\u001b[0;34m[\u001b[0m\u001b[0mi\u001b[0m\u001b[0;34m+\u001b[0m\u001b[0;36m2\u001b[0m\u001b[0;34m]\u001b[0m\u001b[0;34m)\u001b[0m \u001b[0;34m<<\u001b[0m \u001b[0;36m8\u001b[0m\u001b[0;34m)\u001b[0m \u001b[0;34m|\u001b[0m \u001b[0mord\u001b[0m\u001b[0;34m(\u001b[0m\u001b[0mst\u001b[0m\u001b[0;34m[\u001b[0m\u001b[0mi\u001b[0m\u001b[0;34m+\u001b[0m\u001b[0;36m3\u001b[0m\u001b[0;34m]\u001b[0m\u001b[0;34m)\u001b[0m\u001b[0;34m)\u001b[0m\u001b[0;34m)\u001b[0m\u001b[0;34m\u001b[0m\u001b[0m\n\u001b[0m\u001b[1;32m      5\u001b[0m     \u001b[0;32mreturn\u001b[0m \u001b[0mdummy\u001b[0m\u001b[0;34m\u001b[0m\u001b[0m\n\u001b[1;32m      6\u001b[0m \u001b[0;34m\u001b[0m\u001b[0m\n",
      "\u001b[0;31mIndexError\u001b[0m: string index out of range"
     ]
    }
   ],
   "source": []
  },
  {
   "cell_type": "code",
   "execution_count": 7,
   "metadata": {},
   "outputs": [],
   "source": []
  },
  {
   "cell_type": "code",
   "execution_count": 8,
   "metadata": {},
   "outputs": [
    {
     "name": "stdout",
     "output_type": "stream",
     "text": [
      "0x36736e59\n",
      "2048\n"
     ]
    }
   ],
   "source": [
    "\n",
    "\n",
    "#print(hex(hex_8k[0]))\n",
    "#print(len(hex_8k))"
   ]
  },
  {
   "cell_type": "code",
   "execution_count": 19,
   "metadata": {},
   "outputs": [],
   "source": []
  },
  {
   "cell_type": "code",
   "execution_count": null,
   "metadata": {},
   "outputs": [],
   "source": []
  },
  {
   "cell_type": "code",
   "execution_count": 46,
   "metadata": {},
   "outputs": [
    {
     "name": "stdout",
     "output_type": "stream",
     "text": [
      "3987\n"
     ]
    }
   ],
   "source": [
    "import binascii\n",
    "filename = './test_image.png'\n",
    "with open(filename, 'rb') as f:\n",
    "    content = f.read()\n",
    "hex_val = binascii.hexlify(content)\n",
    "#print((hex_val))\n",
    "\n",
    "\n",
    "\n",
    "from PIL import Image\n",
    "import cv2\n",
    "#import skimage.util\n",
    "\n",
    "#im = Image.open('./sahara.jpg')\n",
    "#im = cv2.imread('./sahara.jpg')\n",
    "#height, width, channels = im.shape\n",
    "\n",
    "#print(width, height, channels)\n",
    "\n",
    "import os\n",
    "\n",
    "print(os.path.getsize('./test_image.png'))"
   ]
  },
  {
   "cell_type": "code",
   "execution_count": 67,
   "metadata": {},
   "outputs": [
    {
     "name": "stdout",
     "output_type": "stream",
     "text": [
      "0xbabecb0e\n"
     ]
    }
   ],
   "source": [
    "# change this to test with different CRC values\n",
    "test_data = []\n",
    "test_data.append(0xbabecafe)\n",
    "\n",
    "# test_data.append(0xbabedafe) # - a5769b57\n",
    "# test_data = 0x12345678 # - 0xdf808a2b"
   ]
  },
  {
   "cell_type": "code",
   "execution_count": 72,
   "metadata": {},
   "outputs": [
    {
     "name": "stdout",
     "output_type": "stream",
     "text": [
      "0\n"
     ]
    }
   ],
   "source": [
    "# write the data to the accelerator\n",
    "result = []\n",
    "for i in range(0, 4096):\n",
    "    mmio_crc.write(crc_address_offset, (test_data[0]+i))\n",
    "    mmio_crc.write(crc_address_offset+0x4, crc_initial_data)\n",
    "    result.append(mmio_crc.read(0x8))\n",
    "#print((result))\n",
    "count = 0\n",
    "for n in result:\n",
    "    if result.count(n)>1:\n",
    "        count = count +1 \n",
    "        # print(\"Repeated number: \",n, \"Count: \", result.count(n))\n",
    "print(count)"
   ]
  },
  {
   "cell_type": "code",
   "execution_count": 54,
   "metadata": {},
   "outputs": [
    {
     "name": "stdout",
     "output_type": "stream",
     "text": [
      "0xa5769b57\n"
     ]
    }
   ],
   "source": []
  },
  {
   "cell_type": "code",
   "execution_count": null,
   "metadata": {},
   "outputs": [],
   "source": [
    "#function to write input and read results\n",
    "def crc_accel_test(test_data):\n",
    "    # write the data to the accelerator\n",
    "    #for i in range (0,1):\n",
    "    mmio.write(address_offset, test_data)\n",
    "    print(hex(test_data))\n",
    "    mmio.write(address_offset+0x4, initial_data)\n",
    "    # mmio.write(address_offset+0x8, 0x0)\n",
    "    # read the result\n",
    "    # result = []\n",
    "    result = mmio.read(address_offset+0x8)\n",
    "    return result"
   ]
  },
  {
   "cell_type": "code",
   "execution_count": null,
   "metadata": {},
   "outputs": [],
   "source": [
    "for i in (0,1):\n",
    "    print(hex(crc_accel_test(test_data[i])))\n",
    "# %timeit -n 1000 crc_accel_test(0xbabecafe)"
   ]
  },
  {
   "cell_type": "code",
   "execution_count": null,
   "metadata": {},
   "outputs": [],
   "source": [
    "## now, we, test PS!"
   ]
  },
  {
   "cell_type": "code",
   "execution_count": null,
   "metadata": {},
   "outputs": [],
   "source": [
    "def create_table():\n",
    "    a = []\n",
    "    for i in range(256):\n",
    "        k = i << 24;\n",
    "        for _ in range(8):\n",
    "            k = (k << 1) ^ 0x4c11db7 if k & 0x80000000 else k << 1\n",
    "        a.append(k & 0xffffffff)\n",
    "    return a"
   ]
  },
  {
   "cell_type": "code",
   "execution_count": null,
   "metadata": {},
   "outputs": [],
   "source": [
    "def crc32(bytestream):\n",
    "    crc = 0xffffffff\n",
    "    crc_table = create_table()\n",
    "    for byte in bytestream:\n",
    "        lookup_index = ((crc >> 24) ^ byte) & 0xff\n",
    "        crc = ((crc & 0xffffff) << 8) ^ crc_table[lookup_index]\n",
    "    return crc"
   ]
  },
  {
   "cell_type": "code",
   "execution_count": null,
   "metadata": {},
   "outputs": [],
   "source": [
    "initial_data_bytearray = bytearray.fromhex(\"babecafe\")\n",
    "print(initial_data_bytearray)"
   ]
  },
  {
   "cell_type": "code",
   "execution_count": null,
   "metadata": {},
   "outputs": [],
   "source": [
    "print(hex(crc32(initial_data_bytearray)))\n",
    "%timeit -n 1000 crc32(initial_data_bytearray)"
   ]
  },
  {
   "cell_type": "code",
   "execution_count": null,
   "metadata": {},
   "outputs": [],
   "source": [
    "# now we test PS with library"
   ]
  },
  {
   "cell_type": "code",
   "execution_count": null,
   "metadata": {},
   "outputs": [],
   "source": [
    "# s = b'\\xba\\xbe\\xca\\xfe'\n",
    "#h = s.decode(\"hex\")\n",
    "#h = \"0xbabecafe\"\n",
    "#b = bytearray(s)\n",
    "def test(value):\n",
    "    crc32_func = crcmod.predefined.mkCrcFun('crc-32-mpeg')\n",
    "    res = crc32_func(value)\n",
    "    return res"
   ]
  },
  {
   "cell_type": "code",
   "execution_count": null,
   "metadata": {},
   "outputs": [],
   "source": [
    "print(hex(test(s)))\n",
    "%timeit -n 1000 test(s)"
   ]
  },
  {
   "cell_type": "code",
   "execution_count": null,
   "metadata": {},
   "outputs": [],
   "source": []
  },
  {
   "cell_type": "code",
   "execution_count": 44,
   "metadata": {},
   "outputs": [
    {
     "ename": "SyntaxError",
     "evalue": "invalid syntax (<ipython-input-44-fbceae7be931>, line 1)",
     "output_type": "error",
     "traceback": [
      "\u001b[0;36m  File \u001b[0;32m\"<ipython-input-44-fbceae7be931>\"\u001b[0;36m, line \u001b[0;32m1\u001b[0m\n\u001b[0;31m    pip list\u001b[0m\n\u001b[0m           ^\u001b[0m\n\u001b[0;31mSyntaxError\u001b[0m\u001b[0;31m:\u001b[0m invalid syntax\n"
     ]
    }
   ],
   "source": [
    "pip list"
   ]
  },
  {
   "cell_type": "code",
   "execution_count": null,
   "metadata": {},
   "outputs": [],
   "source": []
  },
  {
   "cell_type": "code",
   "execution_count": null,
   "metadata": {},
   "outputs": [],
   "source": []
  },
  {
   "cell_type": "code",
   "execution_count": null,
   "metadata": {},
   "outputs": [],
   "source": []
  },
  {
   "cell_type": "code",
   "execution_count": null,
   "metadata": {},
   "outputs": [],
   "source": []
  }
 ],
 "metadata": {
  "kernelspec": {
   "display_name": "Python 3",
   "language": "python",
   "name": "python3"
  },
  "language_info": {
   "codemirror_mode": {
    "name": "ipython",
    "version": 3
   },
   "file_extension": ".py",
   "mimetype": "text/x-python",
   "name": "python",
   "nbconvert_exporter": "python",
   "pygments_lexer": "ipython3",
   "version": "3.6.5"
  }
 },
 "nbformat": 4,
 "nbformat_minor": 2
}
