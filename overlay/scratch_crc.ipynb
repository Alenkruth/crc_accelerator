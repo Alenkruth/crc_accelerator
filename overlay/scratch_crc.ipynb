{
 "cells": [
  {
   "cell_type": "code",
   "execution_count": 95,
   "metadata": {},
   "outputs": [
    {
     "name": "stdout",
     "output_type": "stream",
     "text": [
      "0xf75b4227\n",
      "0x6272462c\n"
     ]
    }
   ],
   "source": [
    "import zlib\n",
    "  \n",
    "s = b'\\xba\\xbe\\xca\\xfe'\n",
    "# using zlib.crc32() method\n",
    "t_with_def_seed0 = zlib.crc32(s)\n",
    "\n",
    "#t_with_seed = zlib.crc32(s, 67)\n",
    "  \n",
    "# to check if they are signed or unsigned?\n",
    "print(hex(t_with_def_seed0))\n",
    "#print(t_with_seed)\n",
    "\n",
    "def crc32mpeg2(buf, crc=0x0):\n",
    "    \n",
    "    for val in buf:\n",
    "        crc ^= val << 24\n",
    "        for _ in range(8):\n",
    "            crc = crc << 1 if (crc & 0x80000000) == 0 else (crc << 1) ^ 0x104c11db7\n",
    "    return crc\n",
    "\n",
    "crc_out = crc32mpeg2(s)\n",
    "print(hex(crc_out))"
   ]
  },
  {
   "cell_type": "code",
   "execution_count": 3,
   "metadata": {},
   "outputs": [
    {
     "ename": "AttributeError",
     "evalue": "module 'crcengine' has no attribute 'CrcParams'",
     "output_type": "error",
     "traceback": [
      "\u001b[0;31m---------------------------------------------------------------------------\u001b[0m",
      "\u001b[0;31mAttributeError\u001b[0m                            Traceback (most recent call last)",
      "\u001b[0;32m<ipython-input-3-7d0bf43d34ea>\u001b[0m in \u001b[0;36m<module>\u001b[0;34m()\u001b[0m\n\u001b[1;32m      1\u001b[0m \u001b[0;32mimport\u001b[0m \u001b[0mcrcengine\u001b[0m \u001b[0;32mas\u001b[0m \u001b[0mcrceng\u001b[0m\u001b[0;34m\u001b[0m\u001b[0m\n\u001b[0;32m----> 2\u001b[0;31m \u001b[0mparams\u001b[0m \u001b[0;34m=\u001b[0m \u001b[0mcrceng\u001b[0m\u001b[0;34m.\u001b[0m\u001b[0mCrcParams\u001b[0m\u001b[0;34m(\u001b[0m\u001b[0;36m0x864cfb\u001b[0m\u001b[0;34m,\u001b[0m \u001b[0;36m24\u001b[0m\u001b[0;34m,\u001b[0m \u001b[0;36m0xb704ce\u001b[0m\u001b[0;34m,\u001b[0m \u001b[0mreflect_in\u001b[0m\u001b[0;34m=\u001b[0m\u001b[0;32mFalse\u001b[0m\u001b[0;34m,\u001b[0m \u001b[0mreflect_out\u001b[0m\u001b[0;34m=\u001b[0m\u001b[0;32mFalse\u001b[0m\u001b[0;34m,\u001b[0m \u001b[0mxor_out\u001b[0m\u001b[0;34m=\u001b[0m\u001b[0;36m0\u001b[0m\u001b[0;34m)\u001b[0m\u001b[0;34m\u001b[0m\u001b[0m\n\u001b[0m\u001b[1;32m      3\u001b[0m \u001b[0mcrc_openpgp\u001b[0m \u001b[0;34m=\u001b[0m \u001b[0mcrceng\u001b[0m\u001b[0;34m.\u001b[0m\u001b[0mcreate_from_params\u001b[0m\u001b[0;34m(\u001b[0m\u001b[0mparams\u001b[0m\u001b[0;34m)\u001b[0m\u001b[0;34m\u001b[0m\u001b[0m\n\u001b[1;32m      4\u001b[0m \u001b[0;31m# this is equivalent to\u001b[0m\u001b[0;34m\u001b[0m\u001b[0;34m\u001b[0m\u001b[0m\n\u001b[1;32m      5\u001b[0m \u001b[0mcrc_openpgp\u001b[0m \u001b[0;34m=\u001b[0m \u001b[0mcrceng\u001b[0m\u001b[0;34m.\u001b[0m\u001b[0mcreate\u001b[0m\u001b[0;34m(\u001b[0m\u001b[0mparams\u001b[0m\u001b[0;34m=\u001b[0m\u001b[0mparams\u001b[0m\u001b[0;34m)\u001b[0m\u001b[0;34m\u001b[0m\u001b[0m\n",
      "\u001b[0;31mAttributeError\u001b[0m: module 'crcengine' has no attribute 'CrcParams'"
     ]
    }
   ],
   "source": [
    "import crcengine as crceng\n",
    "params = crceng.CrcParams(0x864cfb, 24, 0xb704ce, reflect_in=False, reflect_out=False, xor_out=0)\n",
    "crc_openpgp = crceng.create_from_params(params)\n",
    "# this is equivalent to\n",
    "crc_openpgp = crceng.create(params=params)\n",
    "# invocation\n",
    "result = crc_openpgp(b'123456789')\n",
    "print(f'CRC=0x{result:08x}')"
   ]
  },
  {
   "cell_type": "code",
   "execution_count": 94,
   "metadata": {},
   "outputs": [
    {
     "name": "stdout",
     "output_type": "stream",
     "text": [
      "0xf75b4227\n"
     ]
    }
   ],
   "source": [
    "import crcmod\n",
    "crc32 = crcmod.mkCrcFun(poly=0x104C11DB7, rev=True, initCrc = 0x0, xorOut=0xffffffff)\n",
    "print(hex(crc32(b'\\xba\\xbe\\xca\\xfe')))"
   ]
  },
  {
   "cell_type": "code",
   "execution_count": 30,
   "metadata": {},
   "outputs": [],
   "source": [
    "init = 0xEDB88320"
   ]
  },
  {
   "cell_type": "code",
   "execution_count": 31,
   "metadata": {},
   "outputs": [],
   "source": [
    "new = init << 1 or 0x1"
   ]
  },
  {
   "cell_type": "code",
   "execution_count": 29,
   "metadata": {},
   "outputs": [
    {
     "name": "stdout",
     "output_type": "stream",
     "text": [
      "0x1db710640\n"
     ]
    }
   ],
   "source": [
    "print(hex(new))"
   ]
  },
  {
   "cell_type": "code",
   "execution_count": 93,
   "metadata": {},
   "outputs": [
    {
     "name": "stdout",
     "output_type": "stream",
     "text": [
      "0x5a8964a8\n"
     ]
    }
   ],
   "source": [
    "import crcmod\n",
    "crc32 = crcmod.mkCrcFun(poly=0x104C11DB7, rev=False, initCrc=0x0, xorOut=0xffffffff)\n",
    "print(hex(crc32(b'\\xba\\xbe\\xca\\xfe')))"
   ]
  },
  {
   "cell_type": "code",
   "execution_count": 12,
   "metadata": {},
   "outputs": [
    {
     "name": "stdout",
     "output_type": "stream",
     "text": [
      "0b10111010101111101100101011111110\n"
     ]
    }
   ],
   "source": [
    "init2 = 0xbabecafe\n",
    "print(bin(init2))\n",
    "10111010101111101100101011111110\n",
    "#print(hex(b'01111111010100110111110101011101'))\n",
    "new2 = 0x7f537d5d"
   ]
  },
  {
   "cell_type": "code",
   "execution_count": 42,
   "metadata": {},
   "outputs": [
    {
     "name": "stdout",
     "output_type": "stream",
     "text": [
      "0xffa2ac6e\n"
     ]
    }
   ],
   "source": [
    "import crcmod\n",
    "crc32 = crcmod.mkCrcFun(poly=0x1db710640, rev=True, initCrc=0xffffffff, xorOut=0xffffffff)\n",
    "print(hex(crc32(b'0xbabecafe')))"
   ]
  },
  {
   "cell_type": "code",
   "execution_count": 24,
   "metadata": {},
   "outputs": [
    {
     "ename": "ValueError",
     "evalue": "The degree of the polynomial must be 8, 16, 24, 32 or 64",
     "output_type": "error",
     "traceback": [
      "\u001b[0;31m---------------------------------------------------------------------------\u001b[0m",
      "\u001b[0;31mValueError\u001b[0m                                Traceback (most recent call last)",
      "\u001b[0;32m<ipython-input-24-269034b7cb8d>\u001b[0m in \u001b[0;36m<module>\u001b[0;34m()\u001b[0m\n\u001b[1;32m      1\u001b[0m \u001b[0;32mimport\u001b[0m \u001b[0mcrcmod\u001b[0m\u001b[0;34m\u001b[0m\u001b[0m\n\u001b[0;32m----> 2\u001b[0;31m \u001b[0mcrc32\u001b[0m \u001b[0;34m=\u001b[0m \u001b[0mcrcmod\u001b[0m\u001b[0;34m.\u001b[0m\u001b[0mmkCrcFun\u001b[0m\u001b[0;34m(\u001b[0m\u001b[0mpoly\u001b[0m\u001b[0;34m=\u001b[0m\u001b[0;36m0xEDB883201\u001b[0m\u001b[0;34m,\u001b[0m \u001b[0mrev\u001b[0m\u001b[0;34m=\u001b[0m\u001b[0;32mFalse\u001b[0m\u001b[0;34m,\u001b[0m \u001b[0minitCrc\u001b[0m\u001b[0;34m=\u001b[0m\u001b[0;36m0xffffffff\u001b[0m\u001b[0;34m,\u001b[0m \u001b[0mxorOut\u001b[0m\u001b[0;34m=\u001b[0m\u001b[0;36m0xFFFFFFFF\u001b[0m\u001b[0;34m)\u001b[0m\u001b[0;34m\u001b[0m\u001b[0m\n\u001b[0m\u001b[1;32m      3\u001b[0m \u001b[0mprint\u001b[0m\u001b[0;34m(\u001b[0m\u001b[0mhex\u001b[0m\u001b[0;34m(\u001b[0m\u001b[0mcrc32\u001b[0m\u001b[0;34m(\u001b[0m\u001b[0;34mb'0xbabecafe'\u001b[0m\u001b[0;34m)\u001b[0m\u001b[0;34m)\u001b[0m\u001b[0;34m)\u001b[0m\u001b[0;34m\u001b[0m\u001b[0m\n",
      "\u001b[0;32m/usr/local/lib/python3.6/dist-packages/crcmod/crcmod.py\u001b[0m in \u001b[0;36mmkCrcFun\u001b[0;34m(poly, initCrc, rev, xorOut)\u001b[0m\n\u001b[1;32m    280\u001b[0m \u001b[0;34m\u001b[0m\u001b[0m\n\u001b[1;32m    281\u001b[0m     \u001b[0;31m# First we must verify the params\u001b[0m\u001b[0;34m\u001b[0m\u001b[0;34m\u001b[0m\u001b[0m\n\u001b[0;32m--> 282\u001b[0;31m     \u001b[0;34m(\u001b[0m\u001b[0msizeBits\u001b[0m\u001b[0;34m,\u001b[0m \u001b[0minitCrc\u001b[0m\u001b[0;34m,\u001b[0m \u001b[0mxorOut\u001b[0m\u001b[0;34m)\u001b[0m \u001b[0;34m=\u001b[0m \u001b[0m_verifyParams\u001b[0m\u001b[0;34m(\u001b[0m\u001b[0mpoly\u001b[0m\u001b[0;34m,\u001b[0m \u001b[0minitCrc\u001b[0m\u001b[0;34m,\u001b[0m \u001b[0mxorOut\u001b[0m\u001b[0;34m)\u001b[0m\u001b[0;34m\u001b[0m\u001b[0m\n\u001b[0m\u001b[1;32m    283\u001b[0m     \u001b[0;31m# Make the function (and table), return the function\u001b[0m\u001b[0;34m\u001b[0m\u001b[0;34m\u001b[0m\u001b[0m\n\u001b[1;32m    284\u001b[0m     \u001b[0;32mreturn\u001b[0m \u001b[0m_mkCrcFun\u001b[0m\u001b[0;34m(\u001b[0m\u001b[0mpoly\u001b[0m\u001b[0;34m,\u001b[0m \u001b[0msizeBits\u001b[0m\u001b[0;34m,\u001b[0m \u001b[0minitCrc\u001b[0m\u001b[0;34m,\u001b[0m \u001b[0mrev\u001b[0m\u001b[0;34m,\u001b[0m \u001b[0mxorOut\u001b[0m\u001b[0;34m)\u001b[0m\u001b[0;34m[\u001b[0m\u001b[0;36m0\u001b[0m\u001b[0;34m]\u001b[0m\u001b[0;34m\u001b[0m\u001b[0m\n",
      "\u001b[0;32m/usr/local/lib/python3.6/dist-packages/crcmod/crcmod.py\u001b[0m in \u001b[0;36m_verifyParams\u001b[0;34m(poly, initCrc, xorOut)\u001b[0m\n\u001b[1;32m    392\u001b[0m \u001b[0;34m\u001b[0m\u001b[0m\n\u001b[1;32m    393\u001b[0m \u001b[0;32mdef\u001b[0m \u001b[0m_verifyParams\u001b[0m\u001b[0;34m(\u001b[0m\u001b[0mpoly\u001b[0m\u001b[0;34m,\u001b[0m \u001b[0minitCrc\u001b[0m\u001b[0;34m,\u001b[0m \u001b[0mxorOut\u001b[0m\u001b[0;34m)\u001b[0m\u001b[0;34m:\u001b[0m\u001b[0;34m\u001b[0m\u001b[0m\n\u001b[0;32m--> 394\u001b[0;31m     \u001b[0msizeBits\u001b[0m \u001b[0;34m=\u001b[0m \u001b[0m_verifyPoly\u001b[0m\u001b[0;34m(\u001b[0m\u001b[0mpoly\u001b[0m\u001b[0;34m)\u001b[0m\u001b[0;34m\u001b[0m\u001b[0m\n\u001b[0m\u001b[1;32m    395\u001b[0m \u001b[0;34m\u001b[0m\u001b[0m\n\u001b[1;32m    396\u001b[0m     \u001b[0mmask\u001b[0m \u001b[0;34m=\u001b[0m \u001b[0;34m(\u001b[0m\u001b[0;36m1\u001b[0m\u001b[0;34m<<\u001b[0m\u001b[0msizeBits\u001b[0m\u001b[0;34m)\u001b[0m \u001b[0;34m-\u001b[0m \u001b[0;36m1\u001b[0m\u001b[0;34m\u001b[0m\u001b[0m\n",
      "\u001b[0;32m/usr/local/lib/python3.6/dist-packages/crcmod/crcmod.py\u001b[0m in \u001b[0;36m_verifyPoly\u001b[0;34m(poly)\u001b[0m\n\u001b[1;32m    300\u001b[0m         \u001b[0;32mif\u001b[0m \u001b[0mlow\u001b[0m \u001b[0;34m<=\u001b[0m \u001b[0mpoly\u001b[0m \u001b[0;34m<\u001b[0m \u001b[0mhigh\u001b[0m\u001b[0;34m:\u001b[0m\u001b[0;34m\u001b[0m\u001b[0m\n\u001b[1;32m    301\u001b[0m             \u001b[0;32mreturn\u001b[0m \u001b[0mn\u001b[0m\u001b[0;34m\u001b[0m\u001b[0m\n\u001b[0;32m--> 302\u001b[0;31m     \u001b[0;32mraise\u001b[0m \u001b[0mValueError\u001b[0m\u001b[0;34m(\u001b[0m\u001b[0mmsg\u001b[0m\u001b[0;34m)\u001b[0m\u001b[0;34m\u001b[0m\u001b[0m\n\u001b[0m\u001b[1;32m    303\u001b[0m \u001b[0;34m\u001b[0m\u001b[0m\n\u001b[1;32m    304\u001b[0m \u001b[0;31m#-----------------------------------------------------------------------------\u001b[0m\u001b[0;34m\u001b[0m\u001b[0;34m\u001b[0m\u001b[0m\n",
      "\u001b[0;31mValueError\u001b[0m: The degree of the polynomial must be 8, 16, 24, 32 or 64"
     ]
    }
   ],
   "source": [
    "import crcmod\n",
    "crc32 = crcmod.mkCrcFun(poly=0x1EDB88320, rev=False, initCrc=0xffffffff, xorOut=0xFFFFFFFF)\n",
    "print(hex(crc32(b'0xbabecafe')))"
   ]
  },
  {
   "cell_type": "code",
   "execution_count": 50,
   "metadata": {},
   "outputs": [
    {
     "name": "stdout",
     "output_type": "stream",
     "text": [
      "0x26f0072e\n"
     ]
    }
   ],
   "source": [
    "import crcmod\n",
    "crc32 = crcmod.mkCrcFun(poly=0x104C11DB7, rev=False, initCrc=0xffffffff, xorOut=0xffffffff)\n",
    "print(hex(crc32(b'0xd5d735f7')))"
   ]
  },
  {
   "cell_type": "code",
   "execution_count": 65,
   "metadata": {},
   "outputs": [
    {
     "name": "stdout",
     "output_type": "stream",
     "text": [
      "0xa8a6a95f\n"
     ]
    }
   ],
   "source": [
    "import crcmod\n",
    "crc32 = crcmod.mkCrcFun(poly=0x104C11DB7, rev=False, initCrc=0xffffffff, xorOut=0x0)\n",
    "print(hex(crc32(b'0xbabecafe')))"
   ]
  },
  {
   "cell_type": "code",
   "execution_count": 70,
   "metadata": {},
   "outputs": [
    {
     "ename": "TypeError",
     "evalue": "Unicode-objects must be encoded before calculating a CRC",
     "output_type": "error",
     "traceback": [
      "\u001b[0;31m---------------------------------------------------------------------------\u001b[0m",
      "\u001b[0;31mTypeError\u001b[0m                                 Traceback (most recent call last)",
      "\u001b[0;32m<ipython-input-70-ac1dded53607>\u001b[0m in \u001b[0;36m<module>\u001b[0;34m()\u001b[0m\n\u001b[1;32m      3\u001b[0m \u001b[0;34m\u001b[0m\u001b[0m\n\u001b[1;32m      4\u001b[0m \u001b[0mcrc32_func\u001b[0m \u001b[0;34m=\u001b[0m \u001b[0mcrcmod\u001b[0m\u001b[0;34m.\u001b[0m\u001b[0mpredefined\u001b[0m\u001b[0;34m.\u001b[0m\u001b[0mmkCrcFun\u001b[0m\u001b[0;34m(\u001b[0m\u001b[0;34m'crc-32-mpeg'\u001b[0m\u001b[0;34m)\u001b[0m\u001b[0;34m\u001b[0m\u001b[0m\n\u001b[0;32m----> 5\u001b[0;31m \u001b[0mprint\u001b[0m\u001b[0;34m(\u001b[0m\u001b[0mhex\u001b[0m\u001b[0;34m(\u001b[0m\u001b[0mcrc32_func\u001b[0m\u001b[0;34m(\u001b[0m\u001b[0;34m'123456789'\u001b[0m\u001b[0;34m)\u001b[0m\u001b[0;34m)\u001b[0m\u001b[0;34m)\u001b[0m\u001b[0;34m\u001b[0m\u001b[0m\n\u001b[0m",
      "\u001b[0;32m/usr/local/lib/python3.6/dist-packages/crcmod/crcmod.py\u001b[0m in \u001b[0;36mcrcfun\u001b[0;34m(data, crc, table, fun)\u001b[0m\n\u001b[1;32m    430\u001b[0m     \u001b[0;32mif\u001b[0m \u001b[0mxorOut\u001b[0m \u001b[0;34m==\u001b[0m \u001b[0;36m0\u001b[0m\u001b[0;34m:\u001b[0m\u001b[0;34m\u001b[0m\u001b[0m\n\u001b[1;32m    431\u001b[0m         \u001b[0;32mdef\u001b[0m \u001b[0mcrcfun\u001b[0m\u001b[0;34m(\u001b[0m\u001b[0mdata\u001b[0m\u001b[0;34m,\u001b[0m \u001b[0mcrc\u001b[0m\u001b[0;34m=\u001b[0m\u001b[0minitCrc\u001b[0m\u001b[0;34m,\u001b[0m \u001b[0mtable\u001b[0m\u001b[0;34m=\u001b[0m\u001b[0m_table\u001b[0m\u001b[0;34m,\u001b[0m \u001b[0mfun\u001b[0m\u001b[0;34m=\u001b[0m\u001b[0m_fun\u001b[0m\u001b[0;34m)\u001b[0m\u001b[0;34m:\u001b[0m\u001b[0;34m\u001b[0m\u001b[0m\n\u001b[0;32m--> 432\u001b[0;31m             \u001b[0;32mreturn\u001b[0m \u001b[0mfun\u001b[0m\u001b[0;34m(\u001b[0m\u001b[0mdata\u001b[0m\u001b[0;34m,\u001b[0m \u001b[0mcrc\u001b[0m\u001b[0;34m,\u001b[0m \u001b[0mtable\u001b[0m\u001b[0;34m)\u001b[0m\u001b[0;34m\u001b[0m\u001b[0m\n\u001b[0m\u001b[1;32m    433\u001b[0m     \u001b[0;32melse\u001b[0m\u001b[0;34m:\u001b[0m\u001b[0;34m\u001b[0m\u001b[0m\n\u001b[1;32m    434\u001b[0m         \u001b[0;32mdef\u001b[0m \u001b[0mcrcfun\u001b[0m\u001b[0;34m(\u001b[0m\u001b[0mdata\u001b[0m\u001b[0;34m,\u001b[0m \u001b[0mcrc\u001b[0m\u001b[0;34m=\u001b[0m\u001b[0minitCrc\u001b[0m\u001b[0;34m,\u001b[0m \u001b[0mtable\u001b[0m\u001b[0;34m=\u001b[0m\u001b[0m_table\u001b[0m\u001b[0;34m,\u001b[0m \u001b[0mfun\u001b[0m\u001b[0;34m=\u001b[0m\u001b[0m_fun\u001b[0m\u001b[0;34m)\u001b[0m\u001b[0;34m:\u001b[0m\u001b[0;34m\u001b[0m\u001b[0m\n",
      "\u001b[0;31mTypeError\u001b[0m: Unicode-objects must be encoded before calculating a CRC"
     ]
    }
   ],
   "source": [
    "import crcmod\n",
    "import crcmod.predefined\n",
    "s = \n",
    "crc32_func = crcmod.predefined.mkCrcFun('crc-32-mpeg')\n",
    "print(hex(crc32_func('123456789')))\n"
   ]
  },
  {
   "cell_type": "code",
   "execution_count": 73,
   "metadata": {},
   "outputs": [
    {
     "name": "stdout",
     "output_type": "stream",
     "text": [
      "0xcbf43926\n"
     ]
    }
   ],
   "source": [
    "import crcmod.predefined\n",
    "\n",
    "crc32 = crcmod.predefined.Crc('crc-32')\n",
    "crc32.update(b'123456789')\n",
    "print(hex(crc32.crcValue))\n",
    "#print(hex(crc32_func('123456789')))"
   ]
  },
  {
   "cell_type": "code",
   "execution_count": 74,
   "metadata": {},
   "outputs": [
    {
     "name": "stdout",
     "output_type": "stream",
     "text": [
      "0x51a9d74\n"
     ]
    }
   ],
   "source": [
    "import crcmod.predefined\n",
    "crc32 = crcmod.predefined.Crc('crc-32')\n",
    "crc32.update(b'0xbabecafe')\n",
    "print(hex(crc32.crcValue))"
   ]
  },
  {
   "cell_type": "code",
   "execution_count": 91,
   "metadata": {},
   "outputs": [
    {
     "name": "stdout",
     "output_type": "stream",
     "text": [
      "0xa5769b57\n"
     ]
    }
   ],
   "source": [
    "import crcmod.predefined\n",
    "s = b'\\xba\\xbe\\xca\\xfe'\n",
    "#h = s.decode(\"hex\")\n",
    "#h = \"0xbabecafe\"\n",
    "b = bytearray(s)\n",
    "crc32_func = crcmod.predefined.mkCrcFun('crc-32-mpeg')\n",
    "print(hex(crc32_func((b))))"
   ]
  },
  {
   "cell_type": "code",
   "execution_count": 89,
   "metadata": {},
   "outputs": [
    {
     "name": "stdout",
     "output_type": "stream",
     "text": [
      "0xa5769b57\n"
     ]
    }
   ],
   "source": [
    "import crcmod.predefined\n",
    "crc32 = crcmod.predefined.Crc('crc-32-mpeg')\n",
    "#crc32.update(b'123456789')\n",
    "crc32.update(b'\\xba\\xbe\\xca\\xfe')\n",
    "print(hex(crc32.crcValue))"
   ]
  },
  {
   "cell_type": "code",
   "execution_count": null,
   "metadata": {},
   "outputs": [],
   "source": []
  }
 ],
 "metadata": {
  "kernelspec": {
   "display_name": "Python 3",
   "language": "python",
   "name": "python3"
  },
  "language_info": {
   "codemirror_mode": {
    "name": "ipython",
    "version": 3
   },
   "file_extension": ".py",
   "mimetype": "text/x-python",
   "name": "python",
   "nbconvert_exporter": "python",
   "pygments_lexer": "ipython3",
   "version": "3.6.5"
  }
 },
 "nbformat": 4,
 "nbformat_minor": 2
}
