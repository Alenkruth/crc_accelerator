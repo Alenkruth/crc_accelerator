{
 "cells": [
  {
   "cell_type": "markdown",
   "metadata": {},
   "source": [
    "# CRC Accelerator Performance Demostration"
   ]
  },
  {
   "cell_type": "markdown",
   "metadata": {},
   "source": [
    "# Simple Python experiments"
   ]
  },
  {
   "cell_type": "code",
   "execution_count": 1,
   "metadata": {},
   "outputs": [
    {
     "ename": "NameError",
     "evalue": "name 'mmio_crc' is not defined",
     "output_type": "error",
     "traceback": [
      "\u001b[0;31m---------------------------------------------------------------------------\u001b[0m",
      "\u001b[0;31mNameError\u001b[0m                                 Traceback (most recent call last)",
      "\u001b[0;32m<ipython-input-1-40af5edcf0f0>\u001b[0m in \u001b[0;36m<module>\u001b[0;34m()\u001b[0m\n\u001b[1;32m      4\u001b[0m \u001b[0;31m# write the data to the accelerator\u001b[0m\u001b[0;34m\u001b[0m\u001b[0;34m\u001b[0m\u001b[0m\n\u001b[1;32m      5\u001b[0m \u001b[0;32mfor\u001b[0m \u001b[0mi\u001b[0m \u001b[0;32min\u001b[0m \u001b[0mrange\u001b[0m\u001b[0;34m(\u001b[0m\u001b[0;36m0\u001b[0m\u001b[0;34m,\u001b[0m \u001b[0;36m4096\u001b[0m\u001b[0;34m)\u001b[0m\u001b[0;34m:\u001b[0m\u001b[0;34m\u001b[0m\u001b[0m\n\u001b[0;32m----> 6\u001b[0;31m     \u001b[0mmmio_crc\u001b[0m\u001b[0;34m.\u001b[0m\u001b[0mwrite\u001b[0m\u001b[0;34m(\u001b[0m\u001b[0mcrc_address_offset\u001b[0m\u001b[0;34m,\u001b[0m \u001b[0;34m(\u001b[0m\u001b[0mtest_data\u001b[0m\u001b[0;34m[\u001b[0m\u001b[0;36m0\u001b[0m\u001b[0;34m]\u001b[0m\u001b[0;34m+\u001b[0m\u001b[0mi\u001b[0m\u001b[0;34m)\u001b[0m\u001b[0;34m)\u001b[0m\u001b[0;34m\u001b[0m\u001b[0m\n\u001b[0m\u001b[1;32m      7\u001b[0m     \u001b[0mmmio_crc\u001b[0m\u001b[0;34m.\u001b[0m\u001b[0mwrite\u001b[0m\u001b[0;34m(\u001b[0m\u001b[0mcrc_address_offset\u001b[0m\u001b[0;34m+\u001b[0m\u001b[0;36m0x4\u001b[0m\u001b[0;34m,\u001b[0m \u001b[0mcrc_initial_data\u001b[0m\u001b[0;34m)\u001b[0m\u001b[0;34m\u001b[0m\u001b[0m\n\u001b[1;32m      8\u001b[0m     \u001b[0mbuffer_out\u001b[0m\u001b[0;34m.\u001b[0m\u001b[0mappend\u001b[0m\u001b[0;34m(\u001b[0m\u001b[0mmmio_crc\u001b[0m\u001b[0;34m.\u001b[0m\u001b[0mread\u001b[0m\u001b[0;34m(\u001b[0m\u001b[0;36m0x8\u001b[0m\u001b[0;34m)\u001b[0m\u001b[0;34m)\u001b[0m\u001b[0;34m\u001b[0m\u001b[0m\n",
      "\u001b[0;31mNameError\u001b[0m: name 'mmio_crc' is not defined"
     ]
    }
   ],
   "source": [
    "buffer_out = []\n",
    "buffer_in = []\n",
    "\n",
    "# write the data to the accelerator\n",
    "for i in range(0, 4096):\n",
    "    mmio_crc.write(crc_address_offset, (test_data[0]+i))\n",
    "    mmio_crc.write(crc_address_offset+0x4, crc_initial_data)\n",
    "    buffer_out.append(mmio_crc.read(0x8))\n",
    "#print((result))\n",
    "count = 0\n",
    "for n in buffer_out:\n",
    "    if buffer_out.count(n)>1:\n",
    "        count = count +1 \n",
    "        print(\"Repeated number: \",n, \"Count: \", result.count(n))\n",
    "print(count)"
   ]
  },
  {
   "cell_type": "code",
   "execution_count": 204,
   "metadata": {},
   "outputs": [
    {
     "name": "stdout",
     "output_type": "stream",
     "text": [
      "7974\n",
      "3987\n"
     ]
    }
   ],
   "source": [
    "import binascii\n",
    "import struct, re\n",
    "import sys\n",
    "import codecs\n",
    "\n",
    "filename = \"./test_image.png\"\n",
    "# read the image as bytes\n",
    "with open(filename, 'rb') as f:\n",
    "    content = f.read()\n",
    "    \n",
    "#print(content)\n",
    "test = binascii.hexlify(content)\n",
    "print(len(test))\n",
    "test_b = binascii.unhexlify(test)\n",
    "print(len(test_b))\n",
    "vl = content.hex().ljust(8192,'0')\n",
    "# print((vl))\n",
    "vl_b = bytes.fromhex(vl)\n",
    "\n",
    "#print((vl_b))\n",
    "\n",
    "#with open(\"./works.png\", 'wb') as f:\n",
    "#    f.write(vl_b)\n",
    "\n",
    "def return_hex(st: str):\n",
    "    dummy = []\n",
    "    for i in range(0, len(vl), 8):\n",
    "        #print(st[i], st[i+1], st[i+2], st[i+3])\n",
    "        #print(int(st[i], 16), int(st[i+1], 16), int(st[i+2], 16), int(st[i+3], 16))\n",
    "        dummy.append(((int(st[i]  , 16) << 28) | \\\n",
    "                      (int(st[i+1], 16) << 24) | \\\n",
    "                      (int(st[i+2], 16) << 20) | \\\n",
    "                      (int(st[i+3], 16) << 16) | \\\n",
    "                      (int(st[i+4], 16) << 12) | \\\n",
    "                      (int(st[i+5], 16) <<  8) | \\\n",
    "                      (int(st[i+6], 16) <<  4) | \\\n",
    "                      (int(st[i+7], 16))))\n",
    "    return dummy\n",
    "    \n",
    "hex_8k = return_hex(vl)\n",
    "\n",
    "hex_img = []\n",
    "\n",
    "for i in range(0, len(hex_8k)):\n",
    "    hex_img.append(hex(hex_8k[i]).replace(\"0x\", '').rjust(8, \"0\"))\n",
    "    \n",
    "\n",
    "hex_img = codecs.decode(''.join(hex_img), 'hex_codec')\n",
    "with open(\"./works.png\", 'wb') as f:\n",
    "    f.write(hex_img)\n",
    "#print(sys.getsizeof(hex_8k[0]))\n",
    "#print(len(hex_8k))\n",
    "\n",
    "#print(hex(hex_8k[0]))\n",
    "#print(test, '\\n', vl, '\\n', hex(hex_8k[0]))\n",
    "# temp = content + struct.pack('218x') #,hex_val)\n",
    "# len(temp.\n",
    "#len(binascii.hexlify(temp))\n",
    "\n",
    "#hex(ord(re.sub('\\\\\\\\x', '', str(temp))))"
   ]
  },
  {
   "cell_type": "code",
   "execution_count": 209,
   "metadata": {},
   "outputs": [
    {
     "data": {
      "text/plain": [
       "'./without_noise.png'"
      ]
     },
     "execution_count": 209,
     "metadata": {},
     "output_type": "execute_result"
    }
   ],
   "source": [
    "def hex_to_img(hex_list, filename):\n",
    "    hex_img = []\n",
    "\n",
    "    for i in range(0, len(hex_list)):\n",
    "        hex_img.append(hex(hex_list[i]).replace(\"0x\", '').rjust(8, \"0\"))\n",
    "    \n",
    "    hex_img = codecs.decode(''.join(hex_img), 'hex_codec')\n",
    "    with open(filename, 'wb') as f:\n",
    "        f.write(hex_img)\n",
    "        \n",
    "    return(filename)\n",
    "\n",
    "hex_to_img(hex_8k, './without_noise.png')"
   ]
  },
  {
   "cell_type": "code",
   "execution_count": 183,
   "metadata": {},
   "outputs": [
    {
     "data": {
      "text/plain": [
       "b'\\xfe\\xf0\\xba\\xbe'"
      ]
     },
     "execution_count": 183,
     "metadata": {},
     "output_type": "execute_result"
    }
   ],
   "source": [
    "import codecs\n",
    "data = \"0xfef0babe\"\n",
    "bits = \"\"\n",
    "data = data.replace(\"0x\", \"\")\n",
    "#for x in range(0, len(data), 2):\n",
    "#  bits += chr(int(data[x:x+2], 16))\n",
    "\n",
    "codecs.decode(data, 'hex_codec')\n",
    "#print(bits)"
   ]
  },
  {
   "cell_type": "code",
   "execution_count": 166,
   "metadata": {},
   "outputs": [],
   "source": [
    "\"\"\"\n",
    "    Function to return the list of hex values when given a file name\n",
    "    input: string = Path to the file\n",
    "    returns: list = the file sliced into 32bit hex elements\n",
    "\"\"\"\n",
    "def return_hex_list(filename):\n",
    "    \n",
    "    # read the file\n",
    "    # the file size is 4kb for the examples we use\n",
    "    with open(filename, 'rb') as f:\n",
    "        content = f.read()\n",
    "    \n",
    "    # print the length of the bytestream\n",
    "    print(\"length of the bytestream: \", len(content))\n",
    "    \n",
    "    # the list will contain 4bytes per element in hex format\n",
    "    # converting the image data from bytes to hex will lead to a size increase\n",
    "    temp_val = content.hex()\n",
    "    len_tv = len(temp_val)\n",
    "    \n",
    "    # print the length of the bytestream\n",
    "    print(\"length of the hex stream of the image: \", len_tv)    \n",
    "    \n",
    "    # we find the closest power of two to pad the stream\n",
    "    if (len_tv > 1):\n",
    "        for i in range(1, len_tv):\n",
    "            if (2**i >= len_tv):\n",
    "                size = 2**i\n",
    "                break\n",
    "    \n",
    "    print(\"length the hex stream: \", size)\n",
    "    \n",
    "    st = temp_val.ljust(size,'0')\n",
    "    hex_list = []\n",
    "    \n",
    "    for i in range(0, len(st), 8):\n",
    "        #print(st[i], st[i+1], st[i+2], st[i+3])\n",
    "        #print(int(st[i], 16), int(st[i+1], 16), int(st[i+2], 16), int(st[i+3], 16))\n",
    "        hex_list.append(((int(st[i]  , 16) << 28) | \\\n",
    "                         (int(st[i+1], 16) << 24) | \\\n",
    "                         (int(st[i+2], 16) << 20) | \\\n",
    "                         (int(st[i+3], 16) << 16) | \\\n",
    "                         (int(st[i+4], 16) << 12) | \\\n",
    "                         (int(st[i+5], 16) <<  8) | \\\n",
    "                         (int(st[i+6], 16) <<  4) | \\\n",
    "                         (int(st[i+7], 16))))   \n",
    "    \n",
    "    # print the number of 32bit elements in the list\n",
    "    print(\"number of 32bit elements in the list: \", len(hex_list))\n",
    "    \n",
    "    return hex_list"
   ]
  },
  {
   "cell_type": "code",
   "execution_count": 172,
   "metadata": {},
   "outputs": [
    {
     "name": "stdout",
     "output_type": "stream",
     "text": [
      "length of the bytestream:  22088\n",
      "length of the hex stream of the image:  44176\n",
      "length the hex stream:  65536\n",
      "number of 32bit elements in the list:  8192\n"
     ]
    }
   ],
   "source": [
    "import random\n",
    "\n",
    "filename = \"./test_image_peppers.png\"\n",
    "# read the image as bytes\n",
    "#with open(filename, 'rb') as f:\n",
    "#    content = f.read()\n",
    "hex_list = return_hex_list(filename)\n",
    "\n",
    "def noisy(x, threshold=0.7):\n",
    "    for i in range (len(x)):\n",
    "        if random.random() < threshold:\n",
    "            x[i] = x[i] << random.randint(0, 32) ^ random.randint(0, 2^32)\n",
    "    return x\n",
    "\n",
    "noisy_hex_list = noisy(hex_list)"
   ]
  },
  {
   "cell_type": "code",
   "execution_count": 173,
   "metadata": {},
   "outputs": [],
   "source": [
    "\"\"\"Parameters\n",
    "#----------\n",
    "#image : ndarray\n",
    "#    Input image data. Will be converted to float.\n",
    "# type of noise added \n",
    "    's&p'       Replaces random pixels with 0 or 1.\n",
    "\"\"\"\n",
    "\n",
    "def noisy(image):\n",
    "        row,col,ch = image.shape\n",
    "        s_vs_p = 0.5\n",
    "        amount = 0.004\n",
    "        out = image\n",
    "        # Salt mode\n",
    "        num_salt = np.ceil(amount * image.size * s_vs_p)\n",
    "        coords = [np.random.randint(0, i - 1, int(num_salt))\n",
    "            for i in image.shape]\n",
    "        out[coords] = 1\n",
    "\n",
    "        # Pepper mode\n",
    "        num_pepper = np.ceil(amount* image.size * (1. - s_vs_p))\n",
    "        coords = [np.random.randint(0, i - 1, int(num_pepper))\n",
    "                  for i in image.shape]\n",
    "        out[coords] = 0\n",
    "        return out"
   ]
  },
  {
   "cell_type": "markdown",
   "metadata": {},
   "source": [
    "# Playing with Random String. Writing to and From a 8kB BRAM"
   ]
  },
  {
   "cell_type": "code",
   "execution_count": null,
   "metadata": {},
   "outputs": [],
   "source": [
    "# Random 8kB string\n",
    "\n",
    "# st = \"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\""
   ]
  },
  {
   "cell_type": "code",
   "execution_count": null,
   "metadata": {},
   "outputs": [],
   "source": [
    "# Code to convert a string into Hex of width = 32bits\n",
    "\n",
    "def return_hex(st: str):\n",
    "    dummy = []\n",
    "    for i in range(0, len(st), 4):\n",
    "        dummy.append(((ord(st[i]) << 24) | (ord(st[i+1]) << 16) | (ord(st[i+2]) << 8) | ord(st[i+3])))\n",
    "    return dummy\n",
    "    \n",
    "hex_8k = return_hex(content)"
   ]
  },
  {
   "cell_type": "code",
   "execution_count": null,
   "metadata": {},
   "outputs": [],
   "source": [
    "#  Code to write a list of 32 bit hexadecimal values into the BRAM\n",
    "for i in range (0,len(hex_8k),1):\n",
    "    # print(i)\n",
    "    mmio_bram.write(bram_address_offset+(i*4), hex_8k[i])"
   ]
  },
  {
   "cell_type": "code",
   "execution_count": null,
   "metadata": {},
   "outputs": [],
   "source": [
    "# Code to read the data from the BRAM\n",
    "for i in range (0,len(hex_8k),1):\n",
    "    # print(i)\n",
    "    mmio_bram.read(bram_address_offset+(i*4)) #, hex_8k[i])"
   ]
  },
  {
   "cell_type": "code",
   "execution_count": null,
   "metadata": {},
   "outputs": [],
   "source": [
    "while(1):\n",
    "    output_buffer.append(mmio_bram.read(i*4))\n",
    "    if (output_buffer[i*2] != 0x0):\n",
    "        mmio_crc.write(crc_address_offset, output_buffer[i])\n",
    "        mmio_crc.write(crc_address_offset+0x4, crc_initial_data)\n",
    "        output_buffer.append(mmio_crc.read(0x8))\n",
    "    else:\n",
    "        break\n",
    "    i = i + 1\n",
    "    \n",
    "print('\\t\\t| 32bit value from image | Corresponding entry in Output Buffer | Software CRC Value\\t')\n",
    "print('\\t\\t                         |    image  |        CRC               |')"
   ]
  },
  {
   "cell_type": "markdown",
   "metadata": {},
   "source": [
    "# Testing Software CRC Libraries"
   ]
  },
  {
   "cell_type": "code",
   "execution_count": null,
   "metadata": {},
   "outputs": [],
   "source": [
    "import zlib\n",
    "  \n",
    "s = b'\\xba\\xbe\\xca\\xfe'\n",
    "# using zlib.crc32() method\n",
    "t_with_def_seed0 = zlib.crc32(s)\n",
    "\n",
    "#t_with_seed = zlib.crc32(s, 67)\n",
    "  \n",
    "# to check if they are signed or unsigned?\n",
    "print(hex(t_with_def_seed0))\n",
    "#print(t_with_seed)\n",
    "\n",
    "def crc32mpeg2(buf, crc=0x0):\n",
    "    \n",
    "    for val in buf:\n",
    "        crc ^= val << 24\n",
    "        for _ in range(8):\n",
    "            crc = crc << 1 if (crc & 0x80000000) == 0 else (crc << 1) ^ 0x104c11db7\n",
    "    return crc\n",
    "\n",
    "crc_out = crc32mpeg2(s)\n",
    "print(hex(crc_out))"
   ]
  },
  {
   "cell_type": "code",
   "execution_count": 3,
   "metadata": {},
   "outputs": [
    {
     "ename": "AttributeError",
     "evalue": "module 'crcengine' has no attribute 'CrcParams'",
     "output_type": "error",
     "traceback": [
      "\u001b[0;31m---------------------------------------------------------------------------\u001b[0m",
      "\u001b[0;31mAttributeError\u001b[0m                            Traceback (most recent call last)",
      "\u001b[0;32m<ipython-input-3-7d0bf43d34ea>\u001b[0m in \u001b[0;36m<module>\u001b[0;34m()\u001b[0m\n\u001b[1;32m      1\u001b[0m \u001b[0;32mimport\u001b[0m \u001b[0mcrcengine\u001b[0m \u001b[0;32mas\u001b[0m \u001b[0mcrceng\u001b[0m\u001b[0;34m\u001b[0m\u001b[0m\n\u001b[0;32m----> 2\u001b[0;31m \u001b[0mparams\u001b[0m \u001b[0;34m=\u001b[0m \u001b[0mcrceng\u001b[0m\u001b[0;34m.\u001b[0m\u001b[0mCrcParams\u001b[0m\u001b[0;34m(\u001b[0m\u001b[0;36m0x864cfb\u001b[0m\u001b[0;34m,\u001b[0m \u001b[0;36m24\u001b[0m\u001b[0;34m,\u001b[0m \u001b[0;36m0xb704ce\u001b[0m\u001b[0;34m,\u001b[0m \u001b[0mreflect_in\u001b[0m\u001b[0;34m=\u001b[0m\u001b[0;32mFalse\u001b[0m\u001b[0;34m,\u001b[0m \u001b[0mreflect_out\u001b[0m\u001b[0;34m=\u001b[0m\u001b[0;32mFalse\u001b[0m\u001b[0;34m,\u001b[0m \u001b[0mxor_out\u001b[0m\u001b[0;34m=\u001b[0m\u001b[0;36m0\u001b[0m\u001b[0;34m)\u001b[0m\u001b[0;34m\u001b[0m\u001b[0m\n\u001b[0m\u001b[1;32m      3\u001b[0m \u001b[0mcrc_openpgp\u001b[0m \u001b[0;34m=\u001b[0m \u001b[0mcrceng\u001b[0m\u001b[0;34m.\u001b[0m\u001b[0mcreate_from_params\u001b[0m\u001b[0;34m(\u001b[0m\u001b[0mparams\u001b[0m\u001b[0;34m)\u001b[0m\u001b[0;34m\u001b[0m\u001b[0m\n\u001b[1;32m      4\u001b[0m \u001b[0;31m# this is equivalent to\u001b[0m\u001b[0;34m\u001b[0m\u001b[0;34m\u001b[0m\u001b[0m\n\u001b[1;32m      5\u001b[0m \u001b[0mcrc_openpgp\u001b[0m \u001b[0;34m=\u001b[0m \u001b[0mcrceng\u001b[0m\u001b[0;34m.\u001b[0m\u001b[0mcreate\u001b[0m\u001b[0;34m(\u001b[0m\u001b[0mparams\u001b[0m\u001b[0;34m=\u001b[0m\u001b[0mparams\u001b[0m\u001b[0;34m)\u001b[0m\u001b[0;34m\u001b[0m\u001b[0m\n",
      "\u001b[0;31mAttributeError\u001b[0m: module 'crcengine' has no attribute 'CrcParams'"
     ]
    }
   ],
   "source": [
    "import crcengine as crceng\n",
    "params = crceng.CrcParams(0x864cfb, 24, 0xb704ce, reflect_in=False, reflect_out=False, xor_out=0)\n",
    "crc_openpgp = crceng.create_from_params(params)\n",
    "# this is equivalent to\n",
    "crc_openpgp = crceng.create(params=params)\n",
    "# invocation\n",
    "result = crc_openpgp(b'123456789')\n",
    "print(f'CRC=0x{result:08x}')"
   ]
  },
  {
   "cell_type": "code",
   "execution_count": 94,
   "metadata": {},
   "outputs": [
    {
     "name": "stdout",
     "output_type": "stream",
     "text": [
      "0xf75b4227\n"
     ]
    }
   ],
   "source": [
    "import crcmod\n",
    "crc32 = crcmod.mkCrcFun(poly=0x104C11DB7, rev=True, initCrc = 0x0, xorOut=0xffffffff)\n",
    "print(hex(crc32(b'\\xba\\xbe\\xca\\xfe')))"
   ]
  },
  {
   "cell_type": "code",
   "execution_count": 30,
   "metadata": {},
   "outputs": [],
   "source": [
    "init = 0xEDB88320"
   ]
  },
  {
   "cell_type": "code",
   "execution_count": 31,
   "metadata": {},
   "outputs": [],
   "source": [
    "new = init << 1 or 0x1"
   ]
  },
  {
   "cell_type": "code",
   "execution_count": 29,
   "metadata": {},
   "outputs": [
    {
     "name": "stdout",
     "output_type": "stream",
     "text": [
      "0x1db710640\n"
     ]
    }
   ],
   "source": [
    "print(hex(new))"
   ]
  },
  {
   "cell_type": "code",
   "execution_count": 93,
   "metadata": {},
   "outputs": [
    {
     "name": "stdout",
     "output_type": "stream",
     "text": [
      "0x5a8964a8\n"
     ]
    }
   ],
   "source": [
    "import crcmod\n",
    "crc32 = crcmod.mkCrcFun(poly=0x104C11DB7, rev=False, initCrc=0x0, xorOut=0xffffffff)\n",
    "print(hex(crc32(b'\\xba\\xbe\\xca\\xfe')))"
   ]
  },
  {
   "cell_type": "code",
   "execution_count": 12,
   "metadata": {},
   "outputs": [
    {
     "name": "stdout",
     "output_type": "stream",
     "text": [
      "0b10111010101111101100101011111110\n"
     ]
    }
   ],
   "source": [
    "init2 = 0xbabecafe\n",
    "print(bin(init2))\n",
    "10111010101111101100101011111110\n",
    "#print(hex(b'01111111010100110111110101011101'))\n",
    "new2 = 0x7f537d5d"
   ]
  },
  {
   "cell_type": "code",
   "execution_count": 42,
   "metadata": {},
   "outputs": [
    {
     "name": "stdout",
     "output_type": "stream",
     "text": [
      "0xffa2ac6e\n"
     ]
    }
   ],
   "source": [
    "import crcmod\n",
    "crc32 = crcmod.mkCrcFun(poly=0x1db710640, rev=True, initCrc=0xffffffff, xorOut=0xffffffff)\n",
    "print(hex(crc32(b'0xbabecafe')))"
   ]
  },
  {
   "cell_type": "code",
   "execution_count": 24,
   "metadata": {},
   "outputs": [
    {
     "ename": "ValueError",
     "evalue": "The degree of the polynomial must be 8, 16, 24, 32 or 64",
     "output_type": "error",
     "traceback": [
      "\u001b[0;31m---------------------------------------------------------------------------\u001b[0m",
      "\u001b[0;31mValueError\u001b[0m                                Traceback (most recent call last)",
      "\u001b[0;32m<ipython-input-24-269034b7cb8d>\u001b[0m in \u001b[0;36m<module>\u001b[0;34m()\u001b[0m\n\u001b[1;32m      1\u001b[0m \u001b[0;32mimport\u001b[0m \u001b[0mcrcmod\u001b[0m\u001b[0;34m\u001b[0m\u001b[0m\n\u001b[0;32m----> 2\u001b[0;31m \u001b[0mcrc32\u001b[0m \u001b[0;34m=\u001b[0m \u001b[0mcrcmod\u001b[0m\u001b[0;34m.\u001b[0m\u001b[0mmkCrcFun\u001b[0m\u001b[0;34m(\u001b[0m\u001b[0mpoly\u001b[0m\u001b[0;34m=\u001b[0m\u001b[0;36m0xEDB883201\u001b[0m\u001b[0;34m,\u001b[0m \u001b[0mrev\u001b[0m\u001b[0;34m=\u001b[0m\u001b[0;32mFalse\u001b[0m\u001b[0;34m,\u001b[0m \u001b[0minitCrc\u001b[0m\u001b[0;34m=\u001b[0m\u001b[0;36m0xffffffff\u001b[0m\u001b[0;34m,\u001b[0m \u001b[0mxorOut\u001b[0m\u001b[0;34m=\u001b[0m\u001b[0;36m0xFFFFFFFF\u001b[0m\u001b[0;34m)\u001b[0m\u001b[0;34m\u001b[0m\u001b[0m\n\u001b[0m\u001b[1;32m      3\u001b[0m \u001b[0mprint\u001b[0m\u001b[0;34m(\u001b[0m\u001b[0mhex\u001b[0m\u001b[0;34m(\u001b[0m\u001b[0mcrc32\u001b[0m\u001b[0;34m(\u001b[0m\u001b[0;34mb'0xbabecafe'\u001b[0m\u001b[0;34m)\u001b[0m\u001b[0;34m)\u001b[0m\u001b[0;34m)\u001b[0m\u001b[0;34m\u001b[0m\u001b[0m\n",
      "\u001b[0;32m/usr/local/lib/python3.6/dist-packages/crcmod/crcmod.py\u001b[0m in \u001b[0;36mmkCrcFun\u001b[0;34m(poly, initCrc, rev, xorOut)\u001b[0m\n\u001b[1;32m    280\u001b[0m \u001b[0;34m\u001b[0m\u001b[0m\n\u001b[1;32m    281\u001b[0m     \u001b[0;31m# First we must verify the params\u001b[0m\u001b[0;34m\u001b[0m\u001b[0;34m\u001b[0m\u001b[0m\n\u001b[0;32m--> 282\u001b[0;31m     \u001b[0;34m(\u001b[0m\u001b[0msizeBits\u001b[0m\u001b[0;34m,\u001b[0m \u001b[0minitCrc\u001b[0m\u001b[0;34m,\u001b[0m \u001b[0mxorOut\u001b[0m\u001b[0;34m)\u001b[0m \u001b[0;34m=\u001b[0m \u001b[0m_verifyParams\u001b[0m\u001b[0;34m(\u001b[0m\u001b[0mpoly\u001b[0m\u001b[0;34m,\u001b[0m \u001b[0minitCrc\u001b[0m\u001b[0;34m,\u001b[0m \u001b[0mxorOut\u001b[0m\u001b[0;34m)\u001b[0m\u001b[0;34m\u001b[0m\u001b[0m\n\u001b[0m\u001b[1;32m    283\u001b[0m     \u001b[0;31m# Make the function (and table), return the function\u001b[0m\u001b[0;34m\u001b[0m\u001b[0;34m\u001b[0m\u001b[0m\n\u001b[1;32m    284\u001b[0m     \u001b[0;32mreturn\u001b[0m \u001b[0m_mkCrcFun\u001b[0m\u001b[0;34m(\u001b[0m\u001b[0mpoly\u001b[0m\u001b[0;34m,\u001b[0m \u001b[0msizeBits\u001b[0m\u001b[0;34m,\u001b[0m \u001b[0minitCrc\u001b[0m\u001b[0;34m,\u001b[0m \u001b[0mrev\u001b[0m\u001b[0;34m,\u001b[0m \u001b[0mxorOut\u001b[0m\u001b[0;34m)\u001b[0m\u001b[0;34m[\u001b[0m\u001b[0;36m0\u001b[0m\u001b[0;34m]\u001b[0m\u001b[0;34m\u001b[0m\u001b[0m\n",
      "\u001b[0;32m/usr/local/lib/python3.6/dist-packages/crcmod/crcmod.py\u001b[0m in \u001b[0;36m_verifyParams\u001b[0;34m(poly, initCrc, xorOut)\u001b[0m\n\u001b[1;32m    392\u001b[0m \u001b[0;34m\u001b[0m\u001b[0m\n\u001b[1;32m    393\u001b[0m \u001b[0;32mdef\u001b[0m \u001b[0m_verifyParams\u001b[0m\u001b[0;34m(\u001b[0m\u001b[0mpoly\u001b[0m\u001b[0;34m,\u001b[0m \u001b[0minitCrc\u001b[0m\u001b[0;34m,\u001b[0m \u001b[0mxorOut\u001b[0m\u001b[0;34m)\u001b[0m\u001b[0;34m:\u001b[0m\u001b[0;34m\u001b[0m\u001b[0m\n\u001b[0;32m--> 394\u001b[0;31m     \u001b[0msizeBits\u001b[0m \u001b[0;34m=\u001b[0m \u001b[0m_verifyPoly\u001b[0m\u001b[0;34m(\u001b[0m\u001b[0mpoly\u001b[0m\u001b[0;34m)\u001b[0m\u001b[0;34m\u001b[0m\u001b[0m\n\u001b[0m\u001b[1;32m    395\u001b[0m \u001b[0;34m\u001b[0m\u001b[0m\n\u001b[1;32m    396\u001b[0m     \u001b[0mmask\u001b[0m \u001b[0;34m=\u001b[0m \u001b[0;34m(\u001b[0m\u001b[0;36m1\u001b[0m\u001b[0;34m<<\u001b[0m\u001b[0msizeBits\u001b[0m\u001b[0;34m)\u001b[0m \u001b[0;34m-\u001b[0m \u001b[0;36m1\u001b[0m\u001b[0;34m\u001b[0m\u001b[0m\n",
      "\u001b[0;32m/usr/local/lib/python3.6/dist-packages/crcmod/crcmod.py\u001b[0m in \u001b[0;36m_verifyPoly\u001b[0;34m(poly)\u001b[0m\n\u001b[1;32m    300\u001b[0m         \u001b[0;32mif\u001b[0m \u001b[0mlow\u001b[0m \u001b[0;34m<=\u001b[0m \u001b[0mpoly\u001b[0m \u001b[0;34m<\u001b[0m \u001b[0mhigh\u001b[0m\u001b[0;34m:\u001b[0m\u001b[0;34m\u001b[0m\u001b[0m\n\u001b[1;32m    301\u001b[0m             \u001b[0;32mreturn\u001b[0m \u001b[0mn\u001b[0m\u001b[0;34m\u001b[0m\u001b[0m\n\u001b[0;32m--> 302\u001b[0;31m     \u001b[0;32mraise\u001b[0m \u001b[0mValueError\u001b[0m\u001b[0;34m(\u001b[0m\u001b[0mmsg\u001b[0m\u001b[0;34m)\u001b[0m\u001b[0;34m\u001b[0m\u001b[0m\n\u001b[0m\u001b[1;32m    303\u001b[0m \u001b[0;34m\u001b[0m\u001b[0m\n\u001b[1;32m    304\u001b[0m \u001b[0;31m#-----------------------------------------------------------------------------\u001b[0m\u001b[0;34m\u001b[0m\u001b[0;34m\u001b[0m\u001b[0m\n",
      "\u001b[0;31mValueError\u001b[0m: The degree of the polynomial must be 8, 16, 24, 32 or 64"
     ]
    }
   ],
   "source": [
    "import crcmod\n",
    "crc32 = crcmod.mkCrcFun(poly=0x1EDB88320, rev=False, initCrc=0xffffffff, xorOut=0xFFFFFFFF)\n",
    "print(hex(crc32(b'0xbabecafe')))"
   ]
  },
  {
   "cell_type": "code",
   "execution_count": 50,
   "metadata": {},
   "outputs": [
    {
     "name": "stdout",
     "output_type": "stream",
     "text": [
      "0x26f0072e\n"
     ]
    }
   ],
   "source": [
    "import crcmod\n",
    "crc32 = crcmod.mkCrcFun(poly=0x104C11DB7, rev=False, initCrc=0xffffffff, xorOut=0xffffffff)\n",
    "print(hex(crc32(b'0xd5d735f7')))"
   ]
  },
  {
   "cell_type": "code",
   "execution_count": 65,
   "metadata": {},
   "outputs": [
    {
     "name": "stdout",
     "output_type": "stream",
     "text": [
      "0xa8a6a95f\n"
     ]
    }
   ],
   "source": [
    "import crcmod\n",
    "crc32 = crcmod.mkCrcFun(poly=0x104C11DB7, rev=False, initCrc=0xffffffff, xorOut=0x0)\n",
    "print(hex(crc32(b'0xbabecafe')))"
   ]
  },
  {
   "cell_type": "code",
   "execution_count": 70,
   "metadata": {},
   "outputs": [
    {
     "ename": "TypeError",
     "evalue": "Unicode-objects must be encoded before calculating a CRC",
     "output_type": "error",
     "traceback": [
      "\u001b[0;31m---------------------------------------------------------------------------\u001b[0m",
      "\u001b[0;31mTypeError\u001b[0m                                 Traceback (most recent call last)",
      "\u001b[0;32m<ipython-input-70-ac1dded53607>\u001b[0m in \u001b[0;36m<module>\u001b[0;34m()\u001b[0m\n\u001b[1;32m      3\u001b[0m \u001b[0;34m\u001b[0m\u001b[0m\n\u001b[1;32m      4\u001b[0m \u001b[0mcrc32_func\u001b[0m \u001b[0;34m=\u001b[0m \u001b[0mcrcmod\u001b[0m\u001b[0;34m.\u001b[0m\u001b[0mpredefined\u001b[0m\u001b[0;34m.\u001b[0m\u001b[0mmkCrcFun\u001b[0m\u001b[0;34m(\u001b[0m\u001b[0;34m'crc-32-mpeg'\u001b[0m\u001b[0;34m)\u001b[0m\u001b[0;34m\u001b[0m\u001b[0m\n\u001b[0;32m----> 5\u001b[0;31m \u001b[0mprint\u001b[0m\u001b[0;34m(\u001b[0m\u001b[0mhex\u001b[0m\u001b[0;34m(\u001b[0m\u001b[0mcrc32_func\u001b[0m\u001b[0;34m(\u001b[0m\u001b[0;34m'123456789'\u001b[0m\u001b[0;34m)\u001b[0m\u001b[0;34m)\u001b[0m\u001b[0;34m)\u001b[0m\u001b[0;34m\u001b[0m\u001b[0m\n\u001b[0m",
      "\u001b[0;32m/usr/local/lib/python3.6/dist-packages/crcmod/crcmod.py\u001b[0m in \u001b[0;36mcrcfun\u001b[0;34m(data, crc, table, fun)\u001b[0m\n\u001b[1;32m    430\u001b[0m     \u001b[0;32mif\u001b[0m \u001b[0mxorOut\u001b[0m \u001b[0;34m==\u001b[0m \u001b[0;36m0\u001b[0m\u001b[0;34m:\u001b[0m\u001b[0;34m\u001b[0m\u001b[0m\n\u001b[1;32m    431\u001b[0m         \u001b[0;32mdef\u001b[0m \u001b[0mcrcfun\u001b[0m\u001b[0;34m(\u001b[0m\u001b[0mdata\u001b[0m\u001b[0;34m,\u001b[0m \u001b[0mcrc\u001b[0m\u001b[0;34m=\u001b[0m\u001b[0minitCrc\u001b[0m\u001b[0;34m,\u001b[0m \u001b[0mtable\u001b[0m\u001b[0;34m=\u001b[0m\u001b[0m_table\u001b[0m\u001b[0;34m,\u001b[0m \u001b[0mfun\u001b[0m\u001b[0;34m=\u001b[0m\u001b[0m_fun\u001b[0m\u001b[0;34m)\u001b[0m\u001b[0;34m:\u001b[0m\u001b[0;34m\u001b[0m\u001b[0m\n\u001b[0;32m--> 432\u001b[0;31m             \u001b[0;32mreturn\u001b[0m \u001b[0mfun\u001b[0m\u001b[0;34m(\u001b[0m\u001b[0mdata\u001b[0m\u001b[0;34m,\u001b[0m \u001b[0mcrc\u001b[0m\u001b[0;34m,\u001b[0m \u001b[0mtable\u001b[0m\u001b[0;34m)\u001b[0m\u001b[0;34m\u001b[0m\u001b[0m\n\u001b[0m\u001b[1;32m    433\u001b[0m     \u001b[0;32melse\u001b[0m\u001b[0;34m:\u001b[0m\u001b[0;34m\u001b[0m\u001b[0m\n\u001b[1;32m    434\u001b[0m         \u001b[0;32mdef\u001b[0m \u001b[0mcrcfun\u001b[0m\u001b[0;34m(\u001b[0m\u001b[0mdata\u001b[0m\u001b[0;34m,\u001b[0m \u001b[0mcrc\u001b[0m\u001b[0;34m=\u001b[0m\u001b[0minitCrc\u001b[0m\u001b[0;34m,\u001b[0m \u001b[0mtable\u001b[0m\u001b[0;34m=\u001b[0m\u001b[0m_table\u001b[0m\u001b[0;34m,\u001b[0m \u001b[0mfun\u001b[0m\u001b[0;34m=\u001b[0m\u001b[0m_fun\u001b[0m\u001b[0;34m)\u001b[0m\u001b[0;34m:\u001b[0m\u001b[0;34m\u001b[0m\u001b[0m\n",
      "\u001b[0;31mTypeError\u001b[0m: Unicode-objects must be encoded before calculating a CRC"
     ]
    }
   ],
   "source": [
    "import crcmod\n",
    "import crcmod.predefined\n",
    "s = \n",
    "crc32_func = crcmod.predefined.mkCrcFun('crc-32-mpeg')\n",
    "print(hex(crc32_func('123456789')))\n"
   ]
  },
  {
   "cell_type": "code",
   "execution_count": 73,
   "metadata": {},
   "outputs": [
    {
     "name": "stdout",
     "output_type": "stream",
     "text": [
      "0xcbf43926\n"
     ]
    }
   ],
   "source": [
    "import crcmod.predefined\n",
    "\n",
    "crc32 = crcmod.predefined.Crc('crc-32')\n",
    "crc32.update(b'123456789')\n",
    "print(hex(crc32.crcValue))\n",
    "#print(hex(crc32_func('123456789')))"
   ]
  },
  {
   "cell_type": "code",
   "execution_count": 74,
   "metadata": {},
   "outputs": [
    {
     "name": "stdout",
     "output_type": "stream",
     "text": [
      "0x51a9d74\n"
     ]
    }
   ],
   "source": [
    "import crcmod.predefined\n",
    "crc32 = crcmod.predefined.Crc('crc-32')\n",
    "crc32.update(b'0xbabecafe')\n",
    "print(hex(crc32.crcValue))"
   ]
  },
  {
   "cell_type": "code",
   "execution_count": 91,
   "metadata": {},
   "outputs": [
    {
     "name": "stdout",
     "output_type": "stream",
     "text": [
      "0xa5769b57\n"
     ]
    }
   ],
   "source": [
    "import crcmod.predefined\n",
    "s = b'\\xba\\xbe\\xca\\xfe'\n",
    "#h = s.decode(\"hex\")\n",
    "#h = \"0xbabecafe\"\n",
    "b = bytearray(s)\n",
    "crc32_func = crcmod.predefined.mkCrcFun('crc-32-mpeg')\n",
    "print(hex(crc32_func((b))))"
   ]
  },
  {
   "cell_type": "code",
   "execution_count": 89,
   "metadata": {},
   "outputs": [
    {
     "name": "stdout",
     "output_type": "stream",
     "text": [
      "0xa5769b57\n"
     ]
    }
   ],
   "source": [
    "import crcmod.predefined\n",
    "crc32 = crcmod.predefined.Crc('crc-32-mpeg')\n",
    "#crc32.update(b'123456789')\n",
    "crc32.update(b'\\xba\\xbe\\xca\\xfe')\n",
    "print(hex(crc32.crcValue))"
   ]
  },
  {
   "cell_type": "code",
   "execution_count": null,
   "metadata": {},
   "outputs": [],
   "source": [
    "crc32 = crcmod.predefined.Crc('crc-32-mpeg')\n",
    "crc32.update(b'\\xba\\xbe\\xca\\xfe')\n",
    "print(hex(crc32.crcValue))\n",
    "%timeit -n 10000 crc32.crcValue"
   ]
  },
  {
   "cell_type": "markdown",
   "metadata": {},
   "source": [
    "# Testing Image manipulations"
   ]
  },
  {
   "cell_type": "code",
   "execution_count": null,
   "metadata": {},
   "outputs": [],
   "source": [
    "im = cv2.imread('./test_image.png')\n",
    "test_im = Image.open('./test_image_peppers.png')\n",
    "print(im.shape)\n",
    "display(test_im)\n",
    "# print(type(noisy(\"s&p\", im)))\n",
    "# plt.imshow(noisy(\"s&p\", im))\n",
    "# plt.show\n",
    "\n",
    "im = Image.fromarray(noisy(im))\n",
    "print(\"why\")\n",
    "display(im)\n",
    "im.save('test_image_peppers.png', \"PNG\", optimize=True, quality=80)"
   ]
  },
  {
   "cell_type": "code",
   "execution_count": 1,
   "metadata": {},
   "outputs": [
    {
     "ename": "NameError",
     "evalue": "name 'filename' is not defined",
     "output_type": "error",
     "traceback": [
      "\u001b[0;31m---------------------------------------------------------------------------\u001b[0m",
      "\u001b[0;31mNameError\u001b[0m                                 Traceback (most recent call last)",
      "\u001b[0;32m<ipython-input-1-c673dca2ad74>\u001b[0m in \u001b[0;36m<module>\u001b[0;34m()\u001b[0m\n\u001b[1;32m      1\u001b[0m \u001b[0;31m# read the image as bytes\u001b[0m\u001b[0;34m\u001b[0m\u001b[0;34m\u001b[0m\u001b[0m\n\u001b[0;32m----> 2\u001b[0;31m \u001b[0;32mwith\u001b[0m \u001b[0mopen\u001b[0m\u001b[0;34m(\u001b[0m\u001b[0mfilename\u001b[0m\u001b[0;34m,\u001b[0m \u001b[0;34m'rb'\u001b[0m\u001b[0;34m)\u001b[0m \u001b[0;32mas\u001b[0m \u001b[0mf\u001b[0m\u001b[0;34m:\u001b[0m\u001b[0;34m\u001b[0m\u001b[0m\n\u001b[0m\u001b[1;32m      3\u001b[0m     \u001b[0mcontent\u001b[0m \u001b[0;34m=\u001b[0m \u001b[0mf\u001b[0m\u001b[0;34m.\u001b[0m\u001b[0mread\u001b[0m\u001b[0;34m(\u001b[0m\u001b[0;34m)\u001b[0m\u001b[0;31m#.hex()\u001b[0m\u001b[0;34m\u001b[0m\u001b[0m\n\u001b[1;32m      4\u001b[0m \u001b[0mhex_val\u001b[0m \u001b[0;34m=\u001b[0m \u001b[0mbinascii\u001b[0m\u001b[0;34m.\u001b[0m\u001b[0mhexlify\u001b[0m\u001b[0;34m(\u001b[0m\u001b[0mcontent\u001b[0m\u001b[0;34m)\u001b[0m\u001b[0;34m\u001b[0m\u001b[0m\n\u001b[1;32m      5\u001b[0m \u001b[0;31m#print(len(content))\u001b[0m\u001b[0;34m\u001b[0m\u001b[0;34m\u001b[0m\u001b[0m\n",
      "\u001b[0;31mNameError\u001b[0m: name 'filename' is not defined"
     ]
    }
   ],
   "source": [
    "# read the image as bytes\n",
    "with open(filename, 'rb') as f:\n",
    "    content = f.read()#.hex()\n",
    "hex_val = binascii.hexlify(content)\n",
    "#print(len(content))\n",
    "#print((hex_val))\n"
   ]
  },
  {
   "cell_type": "code",
   "execution_count": 2,
   "metadata": {},
   "outputs": [
    {
     "ename": "FileNotFoundError",
     "evalue": "[Errno 2] No such file or directory: './test_image.png'",
     "output_type": "error",
     "traceback": [
      "\u001b[0;31m---------------------------------------------------------------------------\u001b[0m",
      "\u001b[0;31mFileNotFoundError\u001b[0m                         Traceback (most recent call last)",
      "\u001b[0;32m<ipython-input-2-7a5e0bdadcb4>\u001b[0m in \u001b[0;36m<module>\u001b[0;34m()\u001b[0m\n\u001b[1;32m      1\u001b[0m \u001b[0;32mimport\u001b[0m \u001b[0mbinascii\u001b[0m\u001b[0;34m\u001b[0m\u001b[0m\n\u001b[1;32m      2\u001b[0m \u001b[0mfilename\u001b[0m \u001b[0;34m=\u001b[0m \u001b[0;34m'./test_image.png'\u001b[0m\u001b[0;34m\u001b[0m\u001b[0m\n\u001b[0;32m----> 3\u001b[0;31m \u001b[0;32mwith\u001b[0m \u001b[0mopen\u001b[0m\u001b[0;34m(\u001b[0m\u001b[0mfilename\u001b[0m\u001b[0;34m,\u001b[0m \u001b[0;34m'rb'\u001b[0m\u001b[0;34m)\u001b[0m \u001b[0;32mas\u001b[0m \u001b[0mf\u001b[0m\u001b[0;34m:\u001b[0m\u001b[0;34m\u001b[0m\u001b[0m\n\u001b[0m\u001b[1;32m      4\u001b[0m     \u001b[0mcontent\u001b[0m \u001b[0;34m=\u001b[0m \u001b[0mf\u001b[0m\u001b[0;34m.\u001b[0m\u001b[0mread\u001b[0m\u001b[0;34m(\u001b[0m\u001b[0;34m)\u001b[0m\u001b[0;34m\u001b[0m\u001b[0m\n\u001b[1;32m      5\u001b[0m \u001b[0mhex_val\u001b[0m \u001b[0;34m=\u001b[0m \u001b[0mbinascii\u001b[0m\u001b[0;34m.\u001b[0m\u001b[0mhexlify\u001b[0m\u001b[0;34m(\u001b[0m\u001b[0mcontent\u001b[0m\u001b[0;34m)\u001b[0m\u001b[0;34m\u001b[0m\u001b[0m\n",
      "\u001b[0;31mFileNotFoundError\u001b[0m: [Errno 2] No such file or directory: './test_image.png'"
     ]
    }
   ],
   "source": [
    "import binascii\n",
    "filename = './test_image.png'\n",
    "with open(filename, 'rb') as f:\n",
    "    content = f.read()\n",
    "hex_val = binascii.hexlify(content)\n",
    "#print((hex_val))\n",
    "\n",
    "\n",
    "\n",
    "from PIL import Image\n",
    "import cv2\n",
    "#import skimage.util\n",
    "\n",
    "#im = Image.open('./sahara.jpg')\n",
    "#im = cv2.imread('./sahara.jpg')\n",
    "#height, width, channels = im.shape\n",
    "\n",
    "#print(width, height, channels)\n",
    "\n",
    "import os\n",
    "\n",
    "print(os.path.getsize('./test_image.png'))"
   ]
  },
  {
   "cell_type": "markdown",
   "metadata": {},
   "source": [
    "# Other Random Stuff which probably should  have been part of the previous categories"
   ]
  },
  {
   "cell_type": "code",
   "execution_count": null,
   "metadata": {},
   "outputs": [],
   "source": []
  }
 ],
 "metadata": {
  "kernelspec": {
   "display_name": "Python 3",
   "language": "python",
   "name": "python3"
  },
  "language_info": {
   "codemirror_mode": {
    "name": "ipython",
    "version": 3
   },
   "file_extension": ".py",
   "mimetype": "text/x-python",
   "name": "python",
   "nbconvert_exporter": "python",
   "pygments_lexer": "ipython3",
   "version": "3.6.5"
  }
 },
 "nbformat": 4,
 "nbformat_minor": 2
}
